{
 "cells": [
  {
   "cell_type": "markdown",
   "metadata": {
    "id": "intro_markdown"
   },
   "source": [
    "# Project 2: In-Depth Exploratory Data Analysis (EDA)\n",
    "## Netflix Content Analysis 🎬\n",
    "\n",
    "**Project Objective:** To perform an in-depth exploratory data analysis of the Netflix dataset. We will explore trends in content production, identify popular genres, analyze content ratings, and understand the distribution of movies and TV shows on the platform. This project builds on foundational EDA by introducing time-series analysis and more complex data cleaning and transformation techniques.\n",
    "\n",
    "1.  **Data Cleaning & Transformation:** Handling missing values and converting data types (especially dates).\n",
    "2.  **Time-Series Analysis:** Analyzing how content has been added to Netflix over the years.\n",
    "3.  **Text Data Manipulation:** Parsing and analyzing columns with multiple values, like `listed_in` (genres) and `cast`.\n",
    "4.  **Geographical & Rating Analysis:** Understanding where content comes from and its maturity level.\n",
    "5.  **Feature Engineering:** Creating new, insightful features like 'content age'.\n",
    "6.  **Advanced Visualization:** Creating insightful plots to understand distributions and relationships in the data."
   ]
  },
  {
   "cell_type": "markdown",
   "metadata": {
    "id": "setup_markdown"
   },
   "source": [
    "### Step 1: Setup - Importing Libraries\n",
    "\n"
   ]
  },
  {
   "cell_type": "code",
   "execution_count": null,
   "metadata": {
    "id": "setup_code"
   },
   "outputs": [],
   "source": [
    "import pandas as pd\n",
    "import numpy as np\n",
    "import matplotlib.pyplot as plt\n",
    "import seaborn as sns\n",
    "from wordcloud import WordCloud\n",
    "\n",
    "# Set a consistent style for our plots\n",
    "sns.set_style('darkgrid')"
   ]
  },
  {
   "cell_type": "markdown",
   "metadata": {
    "id": "load_data_markdown"
   },
   "source": [
    "### Step 2: Data Loading and Initial Inspection\n",
    "\n",
    "Load the `netflix_titles.csv` dataset and perform a high-level overview."
   ]
  },
  {
   "cell_type": "code",
   "execution_count": null,
   "metadata": {
    "colab": {
     "base_uri": "https://localhost:8080/",
     "height": 293
    },
    "id": "r66hjAa38ApH",
    "outputId": "90ebff9a-6cfe-49b8-e834-e55c03aa9041"
   },
   "outputs": [],
   "source": [
    "netflix_df = pd.read_csv(\"../Project-02/netflix_titles.csv\")\n",
    "netflix_df.head()"
   ]
  },
  {
   "cell_type": "code",
   "execution_count": null,
   "metadata": {
    "colab": {
     "base_uri": "https://localhost:8080/"
    },
    "id": "info_code",
    "outputId": "fef32b3b-5f1c-4cf5-b99d-dd2a404cb01c"
   },
   "outputs": [],
   "source": [
    "# Get a concise summary of the dataframe\n",
    "netflix_df.info()"
   ]
  },
  {
   "cell_type": "markdown",
   "metadata": {
    "id": "info_analysis_markdown"
   },
   "source": [
    "**Interpretation of `.info()`:**\n",
    "- We have 7787 entries (titles).\n",
    "- **Key Problem:** The `date_added` column is of type `object` (a string), not a `datetime` object. We cannot perform time-based analysis until this is corrected.\n",
    "- **Missing Values:** `director`, `cast`, `country`, `date_added`, and `rating` all have missing values. `director` has the most significant number of nulls."
   ]
  },
  {
   "cell_type": "markdown",
   "metadata": {
    "id": "datacleaning_markdown"
   },
   "source": [
    "### Step 3: Data Cleaning and Transformation\n",
    "\n",
    "This step is critical for ensuring our analysis is accurate. We will handle missing values and correct data types."
   ]
  },
  {
   "cell_type": "markdown",
   "metadata": {
    "id": "theory_cleaning"
   },
   "source": [
    "#### **Theoretical Concept: Data Type Conversion & Handling Nulls**\n",
    "Data often comes in non-ideal formats. Storing dates as strings, for example, prevents us from extracting components like the year or month, or from plotting data over time. Converting columns to their proper data types (`pd.to_datetime`, `.astype()`) is a fundamental preprocessing step.\n",
    "\n",
    "For null values, we have several strategies:\n",
    "1.  **Drop:** If only a very small percentage of rows have missing data, dropping them might be acceptable (`.dropna()`).\n",
    "2.  **Fill/Impute:** Replace missing values with a placeholder (like \"Unknown\") or a statistical measure (like the mode for categorical data). This is useful when you don't want to lose the other information in those rows."
   ]
  },
  {
   "cell_type": "code",
   "execution_count": null,
   "metadata": {
    "id": "cleaning_code"
   },
   "outputs": [],
   "source": [
    "# 1. Handle missing values in 'director' and 'cast'\n",
    "# Since these are text fields and many are missing, we'll fill them with 'Unknown'.\n",
    "netflix_df['director'] = netflix_df['director'].fillna('Unknown')\n",
    "netflix_df['cast'] = netflix_df['cast'].fillna('Unknown')"
   ]
  },
  {
   "cell_type": "code",
   "execution_count": null,
   "metadata": {
    "id": "ZioK4VjD4iX2"
   },
   "outputs": [],
   "source": [
    "# 2. Handle missing 'country'\n",
    "# We'll fill with the mode, which is the most common country.\n",
    "mode_country = netflix_df['country'].mode()[0]\n",
    "netflix_df['country'] = netflix_df['country'].fillna(mode_country)"
   ]
  },
  {
   "cell_type": "code",
   "execution_count": null,
   "metadata": {
    "id": "r1A94L-E4kmc"
   },
   "outputs": [],
   "source": [
    "# 3. Drop the few rows with missing 'date_added' and 'rating'\n",
    "# Since the number is small (less than 0.2% of data), dropping them is a safe option.\n",
    "netflix_df.dropna(subset=['date_added', 'rating'], inplace=True)"
   ]
  },
  {
   "cell_type": "code",
   "execution_count": null,
   "metadata": {
    "id": "7-BQnHR24mlj"
   },
   "outputs": [],
   "source": [
    "# 4. Convert 'date_added' to datetime objects\n",
    "# Use format='mixed' to handle potential variations in date formats\n",
    "netflix_df['date_added'] = pd.to_datetime(netflix_df['date_added'], format='mixed', dayfirst=False)"
   ]
  },
  {
   "cell_type": "markdown",
   "metadata": {
    "id": "GNvH5giwFbsb"
   },
   "source": [
    "* **format='mixed':** This argument tells pandas to infer the date format automatically. This is helpful when the date strings in the column have different formats.\n",
    "\n",
    "* **dayfirst=False:** This argument specifies that when the date format is ambiguous (e.g., 01/02/2023), it should be interpreted as month first (January 2nd) rather than day first (February 1st)."
   ]
  },
  {
   "cell_type": "code",
   "execution_count": null,
   "metadata": {
    "id": "OY_ffCY54omA"
   },
   "outputs": [],
   "source": [
    "# 5. Create new features for year and month added\n",
    "netflix_df['year_added'] = netflix_df['date_added'].dt.year\n",
    "netflix_df['month_added'] = netflix_df['date_added'].dt.month"
   ]
  },
  {
   "cell_type": "code",
   "execution_count": null,
   "metadata": {
    "colab": {
     "base_uri": "https://localhost:8080/"
    },
    "id": "p1sjDbR54qL-",
    "outputId": "1e85ccf2-b067-4984-e8bd-11f9b41b913e"
   },
   "outputs": [],
   "source": [
    "# Verify our cleaning and transformation\n",
    "print(\"Missing values after cleaning:\")\n",
    "print(netflix_df.isnull().sum())\n",
    "print(\"\\nData types after transformation:\")\n",
    "print(netflix_df.dtypes)"
   ]
  },
  {
   "cell_type": "markdown",
   "metadata": {
    "id": "eda_markdown"
   },
   "source": [
    "### Step 4: Exploratory Data Analysis & Visualization"
   ]
  },
  {
   "cell_type": "markdown",
   "metadata": {
    "id": "eda_type"
   },
   "source": [
    "#### 4.1 What is the distribution of content type?"
   ]
  },
  {
   "cell_type": "code",
   "execution_count": null,
   "metadata": {
    "colab": {
     "base_uri": "https://localhost:8080/",
     "height": 521
    },
    "id": "eda_type_code",
    "outputId": "1cc9480f-1d3c-49df-e3a5-ff537f244377"
   },
   "outputs": [],
   "source": [
    "plt.figure(figsize=(8, 6))\n",
    "type_counts = netflix_df['type'].value_counts()\n",
    "plt.pie(type_counts, labels=type_counts.index, autopct='%1.1f%%', startangle=140, colors=['#e60023', '#221f1f'])\n",
    "plt.title('Proportion of Movies vs. TV Shows')\n",
    "plt.ylabel('')\n",
    "plt.show()"
   ]
  },
  {
   "cell_type": "markdown",
   "metadata": {
    "id": "eda_type_summary"
   },
   "source": [
    "**Insight:** The Netflix library is dominated by Movies, which make up roughly 70% of the content in this dataset."
   ]
  },
  {
   "cell_type": "markdown",
   "metadata": {
    "id": "eda_time_series"
   },
   "source": [
    "#### 4.2 How has content been added over time?"
   ]
  },
  {
   "cell_type": "code",
   "execution_count": null,
   "metadata": {
    "colab": {
     "base_uri": "https://localhost:8080/",
     "height": 735
    },
    "id": "eda_time_series_code_stacked",
    "outputId": "6fbe6a2a-8ee2-42a4-effc-c6fc7eae4f32"
   },
   "outputs": [],
   "source": [
    "# Group data by year and content type\n",
    "content_over_time = netflix_df.groupby(['year_added', 'type']).size().unstack().fillna(0)\n",
    "\n",
    "plt.figure(figsize=(14, 8))\n",
    "content_over_time.plot(kind='line', marker='o', figsize=(14, 8))\n",
    "plt.title('Content Added to Netflix Over the Years (by Type)')\n",
    "plt.xlabel('Year Added')\n",
    "plt.ylabel('Number of Titles Added')\n",
    "plt.legend(title='Content Type')\n",
    "plt.grid(True)\n",
    "plt.show()"
   ]
  },
  {
   "cell_type": "markdown",
   "metadata": {
    "id": "eda_time_series_summary"
   },
   "source": [
    "**Insight:** By separating movies and TV shows, we can see that while both grew significantly, the addition of movies accelerated much more dramatically, peaking in 2019. The growth in TV shows has been more steady. There appears to be a slight slowdown in content additions in 2020 and 2021, which could be due to the COVID-19 pandemic affecting productions or the dataset being incomplete for the latest year."
   ]
  },
  {
   "cell_type": "code",
   "execution_count": null,
   "metadata": {
    "colab": {
     "base_uri": "https://localhost:8080/",
     "height": 147
    },
    "id": "tzyO9YW8F-jA",
    "outputId": "daf94c67-75f9-441d-ac25-dff886311a0b"
   },
   "outputs": [],
   "source": [
    "netflix_df.head(2)"
   ]
  },
  {
   "cell_type": "markdown",
   "metadata": {
    "id": "eda_genre"
   },
   "source": [
    "#### 4.3 What are the most popular genres?"
   ]
  },
  {
   "cell_type": "markdown",
   "metadata": {
    "id": "theory_text_manipulation"
   },
   "source": [
    "#### **Theoretical Concept: Handling Multi-Value Text Columns**\n",
    "The `listed_in` column contains strings with multiple genres separated by commas (e.g., \"Dramas, International Movies\"). To analyze each genre individually, we need to transform the data. A common technique is to:\n",
    "1.  **Split** the string in each row into a list of genres.\n",
    "2.  **Explode** the DataFrame so that each genre in the list gets its own row, duplicating the other information for that title.\n",
    "This allows us to perform a `value_counts()` on the genres."
   ]
  },
  {
   "cell_type": "code",
   "execution_count": null,
   "metadata": {
    "id": "eda_genre_code"
   },
   "outputs": [],
   "source": [
    "# Split the 'listed_in' column and explode it\n",
    "genres = netflix_df.assign(genre=netflix_df['listed_in'].str.split(', ')).explode('genre')"
   ]
  },
  {
   "cell_type": "code",
   "execution_count": null,
   "metadata": {
    "colab": {
     "base_uri": "https://localhost:8080/",
     "height": 718
    },
    "id": "LecEjk1WGK-V",
    "outputId": "3149d46b-5d8c-4c96-f1ca-7ab5a408890e"
   },
   "outputs": [],
   "source": [
    "# Get the top 15 genres and their counts\n",
    "top_genres_counts = genres['genre'].value_counts().reset_index()\n",
    "top_genres_counts.columns = ['genre', 'count'] # Rename columns for clarity\n",
    "\n",
    "# Select only the top 15 for plotting\n",
    "top_genres_counts_plot = top_genres_counts.head(15)\n",
    "\n",
    "plt.figure(figsize=(12, 8))\n",
    "sns.barplot(y='genre', x='count', data=top_genres_counts_plot, palette='mako', hue='genre', legend=False)\n",
    "plt.title('Top 15 Genres on Netflix')\n",
    "plt.xlabel('Count')\n",
    "plt.ylabel('Genre')\n",
    "plt.show()"
   ]
  },
  {
   "cell_type": "markdown",
   "metadata": {
    "id": "eda_genre_summary"
   },
   "source": [
    "**Insight:** \"International Movies\" is the most common genre tag, highlighting Netflix's global content strategy. This is followed by Dramas, Comedies, and Action & Adventure."
   ]
  },
  {
   "cell_type": "markdown",
   "metadata": {
    "id": "eda_duration"
   },
   "source": [
    "#### 4.4 What is the distribution of content duration?"
   ]
  },
  {
   "cell_type": "code",
   "execution_count": null,
   "metadata": {
    "id": "Ls3UMCvKGt5Q"
   },
   "outputs": [],
   "source": [
    "# Separate movies and TV shows\n",
    "movies_df = netflix_df[netflix_df['type'] == 'Movie'].copy()\n",
    "tv_shows_df = netflix_df[netflix_df['type'] == 'TV Show'].copy()"
   ]
  },
  {
   "cell_type": "code",
   "execution_count": null,
   "metadata": {
    "id": "z7z_gplWGw8j"
   },
   "outputs": [],
   "source": [
    "# Clean and convert duration for movies\n",
    "movies_df['duration_min'] = movies_df['duration'].str.replace(' min', '').astype(int)\n",
    "\n",
    "# Clean and convert duration for TV shows\n",
    "tv_shows_df['seasons'] = tv_shows_df['duration'].str.replace(' Seasons', '').str.replace(' Season', '').astype(int)"
   ]
  },
  {
   "cell_type": "code",
   "execution_count": null,
   "metadata": {
    "colab": {
     "base_uri": "https://localhost:8080/",
     "height": 641
    },
    "id": "eda_duration_code",
    "outputId": "5b963219-61e8-4ec4-b4b3-0da936916f41"
   },
   "outputs": [],
   "source": [
    "# Plot the distributions\n",
    "fig, axes = plt.subplots(1, 2, figsize=(18, 7))\n",
    "\n",
    "# Movie Duration Distribution\n",
    "sns.histplot(ax=axes[0], data=movies_df, x='duration_min', bins=50, kde=True, color='skyblue').set_title('Movie Duration Distribution (minutes)')\n",
    "\n",
    "# TV Show Season Distribution\n",
    "sns.countplot(ax=axes[1], x='seasons', data=tv_shows_df, palette='rocket', order=tv_shows_df['seasons'].value_counts().index, hue='seasons', legend=False).set_title('TV Show Season Distribution')\n",
    "\n",
    "plt.show()"
   ]
  },
  {
   "cell_type": "markdown",
   "metadata": {
    "id": "eda_duration_summary"
   },
   "source": [
    "**Insight:**\n",
    "- The majority of movies on Netflix are between 80 and 120 minutes long, which is standard for feature films.\n",
    "- The vast majority of TV shows on Netflix are short-lived, with most having only 1 season. This could reflect a strategy of producing many pilots and only renewing the most successful ones, or a focus on limited series."
   ]
  },
  {
   "cell_type": "markdown",
   "metadata": {
    "id": "eda_geographical"
   },
   "source": [
    "#### 4.5 Where does the content come from? (Geographical Analysis)"
   ]
  },
  {
   "cell_type": "code",
   "execution_count": null,
   "metadata": {
    "id": "vf6tc6wyHfnd"
   },
   "outputs": [],
   "source": [
    "# Handle the multi-country listings similar to genres\n",
    "countries = netflix_df.assign(country=netflix_df['country'].str.split(', ')).explode('country')"
   ]
  },
  {
   "cell_type": "code",
   "execution_count": null,
   "metadata": {
    "id": "rLxS9y9rHjqV"
   },
   "outputs": [],
   "source": [
    "# Get the top 15 countries and their counts\n",
    "top_countries_counts = countries['country'].value_counts().reset_index()\n",
    "top_countries_counts.columns = ['country', 'count'] # Rename columns for clarity"
   ]
  },
  {
   "cell_type": "code",
   "execution_count": null,
   "metadata": {
    "colab": {
     "base_uri": "https://localhost:8080/",
     "height": 872
    },
    "id": "eda_geographical_code",
    "outputId": "e3b36b84-e8a4-44ab-e11b-5b3550a2a1a3"
   },
   "outputs": [],
   "source": [
    "# Select only the top 15 for plotting\n",
    "top_countries_counts_plot = top_countries_counts.head(15)\n",
    "\n",
    "plt.figure(figsize=(12, 10))\n",
    "sns.barplot(y='country', x='count', data=top_countries_counts_plot, palette='viridis', hue='country', legend=False)\n",
    "plt.title('Top 15 Content Producing Countries on Netflix')\n",
    "plt.xlabel('Number of Titles')\n",
    "plt.ylabel('Country')\n",
    "plt.show()"
   ]
  },
  {
   "cell_type": "markdown",
   "metadata": {
    "id": "eda_geographical_summary"
   },
   "source": [
    "**Insight:** The United States is by far the largest producer of content available on Netflix. However, India is a very strong second, which explains why so many of the top actors were from India. The UK, Japan, and South Korea also represent major content markets for the platform, emphasizing its global nature."
   ]
  },
  {
   "cell_type": "code",
   "execution_count": null,
   "metadata": {
    "colab": {
     "base_uri": "https://localhost:8080/",
     "height": 147
    },
    "id": "0nRfsDdjIAoB",
    "outputId": "9961fd6a-a4a0-4b2e-a4cc-674bd16f6a7f"
   },
   "outputs": [],
   "source": [
    "netflix_df.head(2)"
   ]
  },
  {
   "cell_type": "markdown",
   "metadata": {
    "id": "eda_ratings"
   },
   "source": [
    "#### 4.6 What are the maturity ratings of the content?"
   ]
  },
  {
   "cell_type": "code",
   "execution_count": null,
   "metadata": {
    "colab": {
     "base_uri": "https://localhost:8080/",
     "height": 756
    },
    "id": "eda_ratings_code",
    "outputId": "ebb2af12-2053-4c54-d454-f4a8164d3498"
   },
   "outputs": [],
   "source": [
    "plt.figure(figsize=(12, 8))\n",
    "sns.countplot(x='rating', data=netflix_df, order=netflix_df['rating'].value_counts().index, palette='crest', hue='rating', legend=False)\n",
    "plt.title('Distribution of Content Ratings on Netflix')\n",
    "plt.xlabel('Rating')\n",
    "plt.ylabel('Count')\n",
    "plt.xticks(rotation=45)\n",
    "plt.show()"
   ]
  },
  {
   "cell_type": "markdown",
   "metadata": {
    "id": "eda_ratings_summary"
   },
   "source": [
    "**Insight:** A large portion of Netflix's content is aimed at mature audiences, with `TV-MA` (Mature Audience) and `TV-14` (Parents Strongly Cautioned) being the two most common ratings. This suggests a focus on adult viewers over content for children (`TV-G`, `TV-Y`)."
   ]
  },
  {
   "cell_type": "markdown",
   "metadata": {
    "id": "eda_freshness"
   },
   "source": [
    "### Step 5: Feature Engineering - Content Freshness\n",
    "Let's create a new feature to analyze how old content is when it gets added to Netflix. This can tell us about their acquisition strategy (buying old classics vs. releasing new originals)."
   ]
  },
  {
   "cell_type": "code",
   "execution_count": null,
   "metadata": {
    "colab": {
     "base_uri": "https://localhost:8080/",
     "height": 641
    },
    "id": "eda_freshness_code",
    "outputId": "ac77a0bf-6652-424a-9744-36016d5a0a47"
   },
   "outputs": [],
   "source": [
    "# Create the 'age_on_netflix' feature\n",
    "netflix_df['age_on_netflix'] = netflix_df['year_added'] - netflix_df['release_year']\n",
    "\n",
    "# Filter out any potential errors where added_year is before release_year\n",
    "content_age = netflix_df[netflix_df['age_on_netflix'] >= 0]\n",
    "\n",
    "plt.figure(figsize=(14, 7))\n",
    "sns.histplot(data=content_age, x='age_on_netflix', bins=50, kde=True)\n",
    "plt.title('Distribution of Content Age When Added to Netflix')\n",
    "plt.xlabel('Content Age (Years)')\n",
    "plt.ylabel('Number of Titles')\n",
    "plt.show()"
   ]
  },
  {
   "cell_type": "markdown",
   "metadata": {
    "id": "eda_freshness_summary"
   },
   "source": [
    "**Insight:** The large spike at `0` indicates that a significant amount of content is added in the same year it's released, which is characteristic of \"Netflix Originals.\" However, there is a very long tail, showing that Netflix also heavily invests in acquiring licensed content that can be decades old, building a deep library of classic films and shows."
   ]
  },
  {
   "cell_type": "markdown",
   "metadata": {
    "id": "eda_multivariate"
   },
   "source": [
    "### Step 6: Deeper Multivariate Analysis"
   ]
  },
  {
   "cell_type": "code",
   "execution_count": null,
   "metadata": {
    "colab": {
     "base_uri": "https://localhost:8080/",
     "height": 814
    },
    "id": "eda_multivariate_code",
    "outputId": "cc39ec0b-c64b-4451-cebd-8121cc10747c"
   },
   "outputs": [],
   "source": [
    "# Analyze movie duration across different top genres\n",
    "top_genres = genres['genre'].value_counts().index[:5]\n",
    "genres_movies = genres[(genres['type'] == 'Movie') & (genres['genre'].isin(top_genres))].copy()\n",
    "genres_movies['duration_min'] = genres_movies['duration'].str.replace(' min', '').astype(int)\n",
    "\n",
    "plt.figure(figsize=(15, 8))\n",
    "sns.boxplot(data=genres_movies, x='genre', y='duration_min', palette='pastel', hue='genre', legend=False)\n",
    "plt.title('Movie Duration by Top Genres')\n",
    "plt.xlabel('Genre')\n",
    "plt.ylabel('Duration (minutes)')\n",
    "plt.xticks(rotation=45)\n",
    "plt.show()"
   ]
  },
  {
   "cell_type": "markdown",
   "metadata": {
    "id": "eda_multivariate_summary"
   },
   "source": [
    "**Insight:** While the median duration for most top genres is similar (around 90-100 minutes), we can see some interesting variations. For example, Dramas tend to have a wider range of durations, with many longer films. International Movies also show a broad distribution, reflecting diverse filmmaking styles from around the world."
   ]
  },
  {
   "cell_type": "markdown",
   "metadata": {
    "id": "eda_wordcloud"
   },
   "source": [
    "### Step 7: Word Cloud from Content Descriptions\n",
    "As a final visual analysis, let's generate a word cloud from the `description` column to see what themes and words are most common in Netflix content."
   ]
  },
  {
   "cell_type": "code",
   "execution_count": null,
   "metadata": {
    "colab": {
     "base_uri": "https://localhost:8080/",
     "height": 648
    },
    "id": "eda_wordcloud_code",
    "outputId": "f112ed29-73f4-47da-e8b7-71e05050dbe1"
   },
   "outputs": [],
   "source": [
    "# Combine all descriptions into a single string\n",
    "text = ' '.join(netflix_df['description'])\n",
    "\n",
    "# Create and generate a word cloud image\n",
    "wordcloud = WordCloud(width=800, height=400, background_color='black').generate(text)\n",
    "\n",
    "# Display the generated image\n",
    "plt.figure(figsize=(15, 10))\n",
    "plt.imshow(wordcloud, interpolation='bilinear')\n",
    "plt.axis('off')\n",
    "plt.title('Most Common Words in Netflix Content Descriptions', fontsize=20)\n",
    "plt.show()"
   ]
  },
  {
   "cell_type": "markdown",
   "metadata": {
    "id": "eda_wordcloud_summary"
   },
   "source": [
    "**Insight:** The word cloud highlights common themes and subjects. Words like \"life,\" \"family,\" \"love,\" \"young,\" \"friends,\" and \"world\" are prominent, suggesting that much of the content revolves around human relationships and personal journeys. Action-oriented words like \"find,\" \"secret,\" and \"new\" also appear frequently."
   ]
  },
  {
   "cell_type": "markdown",
   "metadata": {
    "id": "2d46b38b"
   },
   "source": [
    "### Step 8: Final Conclusion and Summary of Insights\n",
    "\n",
    "This in-depth EDA of the Netflix dataset has revealed several key characteristics and strategies of the platform's content library.\n",
    "\n",
    "**Key Findings:**\n",
    "1. **Content Strategy:** Netflix's library is movie-heavy (~70%), and the platform aggressively added content between 2016-2019. Their strategy involves a mix of brand new originals (added the same year they are released) and a deep library of licensed older content.\n",
    "2. **Global Dominance:** While the US is the top content producer, the platform is heavily international, with India being a massive contributor. This is reflected in the top genres (\"International Movies\") and most frequent actors.\n",
    "3. **Target Audience:** The content library is skewed towards mature audiences, with `TV-MA` and `TV-14` being the most common ratings.\n",
    "4. **Content Format & Genre:** Dramas and Comedies are universally popular genres. Most movies stick to a standard 90-120 minute runtime, while the vast majority of TV shows only last for a single season, suggesting a high-risk, high-reward approach to series production.\n",
    "5. **Common Themes:** Descriptions of content frequently revolve around universal themes of life, family, love, and discovery.\n",
    "\n",
    "**Limitations:** This dataset is a snapshot in time and lacks viewership data. Therefore, our analysis is of the *supply* of content, not its *demand* or popularity. Nonetheless, this EDA provides a strong, multi-faceted understanding of the composition and evolution of the Netflix library."
   ]
  },
  {
   "cell_type": "markdown",
   "metadata": {
    "id": "conclusion_markdown"
   },
   "source": [
    "### Step 8: Final Conclusion and Summary of Insights\n",
    "\n",
    "This in-depth EDA of the Netflix dataset has revealed several key characteristics and strategies of the platform's content library.\n",
    "\n",
    "**Key Findings:**\n",
    "1.  **Content Strategy:** Netflix's library is movie-heavy (~70%), and the platform aggressively added content between 2016-2019. Their strategy involves a mix of brand new originals (added the same year they are released) and a deep library of licensed older content.\n",
    "2.  **Global Dominance:** While the US is the top content producer, the platform is heavily international, with India being a massive contributor. This is reflected in the top genres (\"International Movies\") and most frequent actors.\n",
    "3.  **Target Audience:** The content library is skewed towards mature audiences, with `TV-MA` and `TV-14` being the most common ratings.\n",
    "4.  **Content Format & Genre:** Dramas and Comedies are universally popular genres. Most movies stick to a standard 90-120 minute runtime, while the vast majority of TV shows only last for a single season, suggesting a high-risk, high-reward approach to series production.\n",
    "5.  **Common Themes:** Descriptions of content frequently revolve around universal themes of life, family, love, and discovery.\n",
    "\n",
    "**Limitations:** This dataset is a snapshot in time and lacks viewership data. Therefore, our analysis is of the *supply* of content, not its *demand* or popularity. Nonetheless, this EDA provides a strong, multi-faceted understanding of the composition and evolution of the Netflix library."
   ]
  },
  {
   "cell_type": "markdown",
   "metadata": {
    "id": "gyC23zf9Krv9"
   },
   "source": [
    "# Submission Q's"
   ]
  },
  {
   "cell_type": "markdown",
   "metadata": {
    "id": "ECcq-hcZKupP"
   },
   "source": [
    "* How has the distribution of content ratings changed over time?\n",
    "* Is there a relationship between content age and its type (Movie vs. TV Show)?\n",
    "* Can we identify any trends in content production based on the release year vs. the year added to Netflix?\n",
    "* What are the most common word pairs or phrases in content descriptions?\n",
    "* Who are the top directors on Netflix?"
   ]
  },
  {
   "cell_type": "markdown",
   "metadata": {
    "id": "DmwTr5qjYPsC"
   },
   "source": [
    "### You can connect with me on [Linkedin](https://www.linkedin.com/in/harshvardhan-singh-350262178/) if you like the content"
   ]
  },
  {
   "cell_type": "markdown",
   "metadata": {},
   "source": [
    "# Submission Answers\n"
   ]
  },
  {
   "cell_type": "markdown",
   "metadata": {},
   "source": [
    "* How has the distribution of content ratings changed over time?"
   ]
  },
  {
   "cell_type": "code",
   "execution_count": null,
   "metadata": {},
   "outputs": [],
   "source": [
    "# Group by year added and rating, then unstack to get ratings as columns\n",
    "ratings_over_time = netflix_df.groupby(['year_added', 'rating']).size().unstack().fillna(0)\n",
    "\n",
    "# Plot the distribution of ratings over time\n",
    "plt.figure(figsize=(15, 10))\n",
    "ratings_over_time.plot(kind='area', stacked=True, figsize=(15, 10))\n",
    "plt.title('Distribution of Content Ratings Over Time on Netflix')\n",
    "plt.xlabel('Year Added')\n",
    "plt.ylabel('Number of Titles Added')\n",
    "plt.legend(title='Rating')\n",
    "plt.grid(True)\n",
    "plt.show()"
   ]
  },
  {
   "cell_type": "markdown",
   "metadata": {},
   "source": [
    "Insight: This stacked area plot shows how the counts of different ratings have changed each year. We can see the rise in TV-MA and TV-14 content, particularly in recent years, aligning with our earlier finding that Netflix focuses on more mature audiences."
   ]
  },
  {
   "cell_type": "markdown",
   "metadata": {},
   "source": [
    "* Is there a relationship between content age and its type (Movie vs. TV Show)?"
   ]
  },
  {
   "cell_type": "code",
   "execution_count": null,
   "metadata": {},
   "outputs": [],
   "source": [
    "# Analyze the relationship between content age and type\n",
    "plt.figure(figsize=(14, 7))\n",
    "sns.histplot(data=content_age, x='age_on_netflix', hue='type', multiple='stack', bins=50, kde=True)\n",
    "plt.title('Distribution of Content Age When Added to Netflix by Content Type')\n",
    "plt.xlabel('Content Age (Years)')\n",
    "plt.ylabel('Number of Titles')\n",
    "plt.show()"
   ]
  },
  {
   "cell_type": "markdown",
   "metadata": {},
   "source": [
    "**Insight:** This stacked histogram shows the distribution of content age (`age_on_netflix`) for both Movies and TV Shows. We can observe that while both types have a peak at 0 years (indicating new releases), the distribution of older content differs. Movies appear to have a longer and heavier tail for older content compared to TV shows, suggesting Netflix adds a larger volume of older movies than older TV shows."
   ]
  },
  {
   "cell_type": "markdown",
   "metadata": {},
   "source": [
    "* Can we identify any trends in content production based on the release year vs. the year added to Netflix?"
   ]
  },
  {
   "cell_type": "code",
   "execution_count": null,
   "metadata": {},
   "outputs": [],
   "source": [
    "# Group by release year and year added, then count the number of titles\n",
    "production_vs_added = netflix_df.groupby(['release_year', 'year_added']).size().reset_index(name='count')\n",
    "\n",
    "# Pivot the data to have release years as rows and years added as columns\n",
    "production_vs_added_pivot = production_vs_added.pivot(index='release_year', columns='year_added', values='count').fillna(0)\n",
    "\n",
    "# Plot the heatmap\n",
    "plt.figure(figsize=(15, 10))\n",
    "sns.heatmap(production_vs_added_pivot, cmap='YlGnBu', linewidths=.5)\n",
    "plt.title('Content Production Year vs. Year Added to Netflix')\n",
    "plt.xlabel('Year Added to Netflix')\n",
    "plt.ylabel('Release Year')\n",
    "plt.show()"
   ]
  },
  {
   "cell_type": "markdown",
   "metadata": {},
   "source": [
    "**Insight:** This heatmap visualizes the number of titles added to Netflix (`Year Added to Netflix`) based on their original release year (`Release Year`). The diagonal line represents content added in the same year it was released, indicating \"Netflix Originals\" or very recent acquisitions. The off-diagonal elements show older content being added over time. We can see a clear concentration of content added in the later years (2016-2020), with a mix of both recent releases and older titles. This reinforces the idea of Netflix's strategy of both creating new content and licensing a large back catalog."
   ]
  },
  {
   "cell_type": "markdown",
   "metadata": {},
   "source": [
    "* What are the most common word pairs or phrases in content descriptions?"
   ]
  },
  {
   "cell_type": "code",
   "execution_count": null,
   "metadata": {},
   "outputs": [],
   "source": [
    "from sklearn.feature_extraction.text import CountVectorizer\n",
    "import re\n",
    "\n",
    "# Function to remove common English stop words and punctuation\n",
    "def preprocess_text(text):\n",
    "    text = re.sub(r'[^\\w\\s]', '', text) # Remove punctuation\n",
    "    text = text.lower() # Convert to lowercase\n",
    "    return text\n",
    "\n",
    "# Apply preprocessing\n",
    "netflix_df['cleaned_description'] = netflix_df['description'].apply(preprocess_text)\n",
    "\n",
    "# Create a CountVectorizer to find bigrams (word pairs)\n",
    "# We can adjust ngram_range to (3,3) for trigrams, etc.\n",
    "vectorizer = CountVectorizer(ngram_range=(2, 2), stop_words='english')\n",
    "\n",
    "# Fit and transform the cleaned descriptions\n",
    "ngram_matrix = vectorizer.fit_transform(netflix_df['cleaned_description'])\n",
    "\n",
    "# Get the feature names (the bigrams)\n",
    "ngram_terms = vectorizer.get_feature_names_out()\n",
    "\n",
    "# Sum the counts of each bigram across all descriptions\n",
    "ngram_counts = ngram_matrix.sum(axis=0)\n",
    "\n",
    "# Create a DataFrame of bigrams and their counts\n",
    "ngram_counts_df = pd.DataFrame({'ngram': ngram_terms, 'count': ngram_counts.tolist()[0]})\n",
    "\n",
    "# Sort by count and get the top N bigrams\n",
    "top_n_ngrams = 20  # You can change this number\n",
    "top_ngrams = ngram_counts_df.sort_values(by='count', ascending=False).head(top_n_ngrams)\n",
    "\n",
    "# Plot the top bigrams\n",
    "plt.figure(figsize=(12, 8))\n",
    "sns.barplot(y='ngram', x='count', data=top_ngrams, palette='viridis', hue='ngram', legend=False)\n",
    "plt.title(f'Top {top_n_ngrams} Most Common Word Pairs (Bigrams) in Content Descriptions')\n",
    "plt.xlabel('Count')\n",
    "plt.ylabel('Word Pair')\n",
    "plt.show()"
   ]
  },
  {
   "cell_type": "markdown",
   "metadata": {},
   "source": [
    "**Insight:** This bar plot shows the most frequent word pairs (bigrams) found in the content descriptions after removing common English stop words. These bigrams offer a more specific look at recurring themes than the single words in the word cloud. For example, \"young woman,\" \"high school,\" \"new york,\" and \"best friend\" suggest common character types and settings. \"true story,\" \"world war,\" and \"serial killer\" point to popular factual or crime-related narratives."
   ]
  },
  {
   "cell_type": "markdown",
   "metadata": {},
   "source": [
    "* Who are the top directors on Netflix?"
   ]
  },
  {
   "cell_type": "code",
   "execution_count": null,
   "metadata": {},
   "outputs": [],
   "source": [
    "# Count the occurrences of each director\n",
    "# Exclude 'Unknown' as it represents missing values we filled\n",
    "top_directors = netflix_df[netflix_df['director'] != 'Unknown']['director'].value_counts().reset_index()\n",
    "top_directors.columns = ['director', 'count']\n",
    "\n",
    "# Select the top N directors\n",
    "top_n_directors = 15  # You can change this number\n",
    "top_directors_plot = top_directors.head(top_n_directors)\n",
    "\n",
    "# Plot the top directors\n",
    "plt.figure(figsize=(12, 8))\n",
    "sns.barplot(y='director', x='count', data=top_directors_plot, palette='magma', hue='director', legend=False)\n",
    "plt.title(f'Top {top_n_directors} Directors on Netflix (by number of titles)')\n",
    "plt.xlabel('Number of Titles')\n",
    "plt.ylabel('Director')\n",
    "plt.show()"
   ]
  },
  {
   "cell_type": "markdown",
   "metadata": {},
   "source": [
    "**Insight:** This bar plot displays the directors with the most titles on Netflix (excluding those listed as 'Unknown'). The data reveals that some directors have a significant number of productions available on the platform, indicating potential partnerships or acquisitions of their film libraries by Netflix."
   ]
  }
 ],
 "metadata": {
  "colab": {
   "provenance": []
  },
  "kernelspec": {
   "display_name": "Python 3 (ipykernel)",
   "language": "python",
   "name": "python3"
  },
  "language_info": {
   "codemirror_mode": {
    "name": "ipython",
    "version": 3
   },
   "file_extension": ".py",
   "mimetype": "text/x-python",
   "name": "python",
   "nbconvert_exporter": "python",
   "pygments_lexer": "ipython3",
   "version": "3.13.5"
  }
 },
 "nbformat": 4,
 "nbformat_minor": 4
}
