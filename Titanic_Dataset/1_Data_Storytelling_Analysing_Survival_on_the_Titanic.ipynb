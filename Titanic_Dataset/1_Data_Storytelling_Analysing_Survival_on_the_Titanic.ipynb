{
  "cells": [
    {
      "cell_type": "markdown",
      "metadata": {
        "id": "intro_markdown"
      },
      "source": [
        "# End-to-End Exploratory Data Analysis (EDA) on the Titanic Dataset\n",
        "\n",
        "**Project Objective:** To perform a comprehensive, step-by-step exploratory data analysis to understand the key factors that influenced survival on the Titanic. This notebook will serve as a complete guide, covering data loading, cleaning, analysis, feature engineering, and visualization, with theoretical explanations at each stage.\n",
        "\n",
        "---"
      ]
    },
    {
      "cell_type": "markdown",
      "metadata": {
        "id": "theory_eda"
      },
      "source": [
        "### **Theoretical Concept: What is Exploratory Data Analysis (EDA)?**\n",
        "\n",
        "Exploratory Data Analysis is the crucial process of performing initial investigations on data to discover patterns, spot anomalies, test hypotheses, and check assumptions with the help of summary statistics and graphical representations. It is not about formal modeling or hypothesis testing; rather, it is about getting to know your data before you start building models.\n",
        "\n",
        "**Why is it important?**\n",
        "1.  **Understand the Data:** It helps you understand the variables and their relationships.\n",
        "2.  **Data Cleaning:** It reveals missing values, outliers, and other inconsistencies that need to be handled.\n",
        "3.  **Feature Selection:** It helps identify which variables are the most important for your problem (feature engineering and selection).\n",
        "4.  **Assumption Checking:** It allows you to check assumptions that are required for certain machine learning models (e.g., normality, linearity)."
      ]
    },
    {
      "cell_type": "markdown",
      "metadata": {
        "id": "Ci9ZxEMjwT-v"
      },
      "source": [
        "### Libraries Used: Pandas and Seaborn\n",
        "\n",
        "- **Pandas:** This is a powerful Python library for data manipulation and analysis. It provides data structures like DataFrames, which are essential for working with tabular data. We used Pandas to load the dataset, handle missing values, and perform various data transformations.\n",
        "\n",
        "- **Seaborn:** Built on top of Matplotlib, Seaborn is a statistical data visualization library. It provides a high-level interface for drawing attractive and informative statistical graphics. We used Seaborn to create various plots like countplots, histograms, boxplots, and barplots to visualize the distributions and relationships within the data."
      ]
    },
    {
      "cell_type": "markdown",
      "metadata": {
        "id": "setup_markdown"
      },
      "source": [
        "### Step 1: Setup - Importing Libraries\n",
        "\n"
      ]
    },
    {
      "cell_type": "code",
      "execution_count": null,
      "metadata": {
        "id": "setup_code"
      },
      "outputs": [],
      "source": [
        "import pandas as pd\n",
        "import numpy as np\n",
        "import matplotlib.pyplot as plt\n",
        "import seaborn as sns\n",
        "\n",
        "# Set plot style for better aesthetics\n",
        "sns.set(style='whitegrid')"
      ]
    },
    {
      "cell_type": "markdown",
      "metadata": {
        "id": "load_data_markdown"
      },
      "source": [
        "### Step 2: Data Loading and Initial Inspection\n"
      ]
    },
    {
      "cell_type": "code",
      "execution_count": null,
      "metadata": {
        "colab": {
          "base_uri": "https://localhost:8080/"
        },
        "id": "h0OFEVBOpqrB",
        "outputId": "c6ec7378-0e42-482b-9f86-b88677be5c47"
      },
      "outputs": [],
      "source": [
        "!git clone 'https://github.com/GeeksforgeeksDS/21-Days-21-Projects-Dataset'"
      ]
    },
    {
      "cell_type": "code",
      "execution_count": null,
      "metadata": {
        "colab": {
          "base_uri": "https://localhost:8080/",
          "height": 521
        },
        "id": "load_data_code",
        "outputId": "401a6122-814a-4815-b80a-a5736eba3e7a"
      },
      "outputs": [],
      "source": [
        "# Load the dataset from a URL\n",
        "titanic_df = pd.read_csv('/content/21-Days-21-Projects-Dataset/Datasets/Titanic-Dataset.csv')\n",
        "\n",
        "# Display the first 5 rows\n",
        "print(\"First 5 rows of the dataset:\")\n",
        "titanic_df.head()"
      ]
    },
    {
      "cell_type": "code",
      "execution_count": null,
      "metadata": {
        "colab": {
          "base_uri": "https://localhost:8080/",
          "height": 452
        },
        "id": "SKeLgInv0v2H",
        "outputId": "b119fb2c-7d97-484e-ea38-7b0c0cbe9403"
      },
      "outputs": [],
      "source": [
        "titanic_df.tail()"
      ]
    },
    {
      "cell_type": "code",
      "execution_count": null,
      "metadata": {
        "colab": {
          "base_uri": "https://localhost:8080/"
        },
        "id": "BY3bvPgP2Gw0",
        "outputId": "53d036d8-9453-4a2c-9a4a-b81c53cc3701"
      },
      "outputs": [],
      "source": [
        "titanic_df.shape"
      ]
    },
    {
      "cell_type": "code",
      "execution_count": null,
      "metadata": {
        "colab": {
          "base_uri": "https://localhost:8080/"
        },
        "id": "info_code",
        "outputId": "fc80b70b-300c-4d09-9a95-83cddc922f75"
      },
      "outputs": [],
      "source": [
        "# Get a concise summary of the dataframe\n",
        "print(\"\\nDataset Information:\")\n",
        "titanic_df.info()"
      ]
    },
    {
      "cell_type": "markdown",
      "metadata": {
        "id": "info_analysis_markdown"
      },
      "source": [
        "**Interpretation of `.info()`:**\n",
        "- The dataset contains 891 entries (passengers) and 12 columns.\n",
        "- **Missing Values Identified:** `Age`, `Cabin`, and `Embarked` have missing values. `Cabin` is missing a significant amount of data (~77%), which will require special attention."
      ]
    },
    {
      "cell_type": "code",
      "execution_count": null,
      "metadata": {
        "colab": {
          "base_uri": "https://localhost:8080/",
          "height": 335
        },
        "id": "describe_code",
        "outputId": "09ff050e-96d7-4404-f67b-b8f3bd13b7d8"
      },
      "outputs": [],
      "source": [
        "# Get descriptive statistics for numerical columns\n",
        "print(\"\\nDescriptive Statistics:\")\n",
        "titanic_df.describe()"
      ]
    },
    {
      "cell_type": "markdown",
      "metadata": {
        "id": "describe_analysis_markdown"
      },
      "source": [
        "**Interpretation of `.describe()`:**\n",
        "- **Survived:** About 38.4% of passengers in this dataset survived.\n",
        "- **Age:** The age ranges from ~5 months to 80 years, with an average age of about 30.\n",
        "- **Fare:** The fare is highly skewed, with a mean of $32 but a median of only $14.45. The maximum fare is over $512, indicating the presence of extreme outliers."
      ]
    },
    {
      "cell_type": "code",
      "execution_count": null,
      "metadata": {
        "colab": {
          "base_uri": "https://localhost:8080/",
          "height": 490
        },
        "id": "ugcS-ETG4YuW",
        "outputId": "80ad7d44-27d1-46aa-e26b-7cc20350287a"
      },
      "outputs": [],
      "source": [
        "titanic_df['Cabin'].value_counts()"
      ]
    },
    {
      "cell_type": "markdown",
      "metadata": {
        "id": "datacleaning_markdown"
      },
      "source": [
        "### Step 3: Data Cleaning\n"
      ]
    },
    {
      "cell_type": "markdown",
      "metadata": {
        "id": "theory_cleaning"
      },
      "source": [
        "#### **Theoretical Concept: Missing Value Imputation**\n",
        "\n",
        "Imputation is the process of replacing missing data with substituted values. The strategy depends on the data type and its distribution:\n",
        "- **Numerical Data:** For skewed distributions (like `Age` and `Fare`), using the **median** is more robust than the mean because it is not affected by outliers.\n",
        "- **Categorical Data:** A common strategy is to fill with the **mode** (the most frequent value).\n",
        "- **High Cardinality/Too Many Missing Values:** For columns like `Cabin`, where most data is missing, imputing might not be effective. We could either drop the column or engineer a new feature from it (e.g., `Has_Cabin`)."
      ]
    },
    {
      "cell_type": "code",
      "execution_count": null,
      "metadata": {
        "colab": {
          "base_uri": "https://localhost:8080/",
          "height": 460
        },
        "id": "BvmSYGrN53v_",
        "outputId": "998dc2a3-8b8f-45e6-aa9f-55058836d9b5"
      },
      "outputs": [],
      "source": [
        "titanic_df.isna().sum()"
      ]
    },
    {
      "cell_type": "code",
      "execution_count": null,
      "metadata": {
        "colab": {
          "base_uri": "https://localhost:8080/",
          "height": 478
        },
        "id": "a21464tTnhDG",
        "outputId": "7c370f3c-1514-42cc-f024-642680f76b60"
      },
      "outputs": [],
      "source": [
        "print(\"Missing values before cleaning:\")\n",
        "titanic_df.isna().sum()"
      ]
    },
    {
      "cell_type": "code",
      "execution_count": null,
      "metadata": {
        "colab": {
          "base_uri": "https://localhost:8080/"
        },
        "id": "XOSHaZ1d6rrf",
        "outputId": "26b92ba6-8a97-4833-b76c-2152e1938e10"
      },
      "outputs": [],
      "source": [
        "median = titanic_df['Age'].median()\n",
        "print(median)"
      ]
    },
    {
      "cell_type": "code",
      "execution_count": null,
      "metadata": {
        "colab": {
          "base_uri": "https://localhost:8080/"
        },
        "id": "cleaning_age_embarked_code",
        "outputId": "2da507b4-ca6f-4ea8-bedc-34a397f5a547"
      },
      "outputs": [],
      "source": [
        "# 1. Handle missing 'Age' values\n",
        "# We use the median to fill missing ages because the age distribution can be skewed.\n",
        "median_age = titanic_df['Age'].median()\n",
        "titanic_df['Age'] = titanic_df['Age'].fillna(median_age)\n",
        "\n",
        "# Verify that there are no more missing values in the columns we handled so far\n",
        "print(\"Missing values after Age cleaning:\")\n",
        "print(titanic_df[['Age', 'Embarked', 'Cabin']].isna().sum())"
      ]
    },
    {
      "cell_type": "code",
      "execution_count": null,
      "metadata": {
        "colab": {
          "base_uri": "https://localhost:8080/"
        },
        "id": "46f3ca2j7MNv",
        "outputId": "15ceb551-1db9-46ef-9960-be6ba8f4b86c"
      },
      "outputs": [],
      "source": [
        "mode = titanic_df['Embarked'].mode()[0]\n",
        "print(mode)"
      ]
    },
    {
      "cell_type": "code",
      "execution_count": null,
      "metadata": {
        "colab": {
          "base_uri": "https://localhost:8080/"
        },
        "id": "2AZxfdNIwsh7",
        "outputId": "ef1f89f2-96cc-42a8-fa23-fb08bf346171"
      },
      "outputs": [],
      "source": [
        "# 2. Handle missing 'Embarked' values\n",
        "# Since there are only two missing values, we'll fill them with the most common port of embarkation (the mode).\n",
        "mode_embarked = titanic_df['Embarked'].mode()[0]\n",
        "titanic_df['Embarked'] = titanic_df['Embarked'].fillna(mode_embarked)\n",
        "\n",
        "# Verify that there are no more missing values in the columns we handled so far\n",
        "print(\"Missing values after Embarked cleaning:\")\n",
        "print(titanic_df[['Age', 'Embarked', 'Cabin']].isna().sum())"
      ]
    },
    {
      "cell_type": "code",
      "execution_count": null,
      "metadata": {
        "id": "YenZKl5IwuY0"
      },
      "outputs": [],
      "source": [
        "# 3. Handle the 'Cabin' column\n",
        "# With over 77% missing data, imputing is not a good idea. Instead, we'll create a new feature 'Has_Cabin'.\n",
        "titanic_df['Has_Cabin'] = titanic_df['Cabin'].notna().astype(int) # 1 if has cabin, 0 if not\n",
        "titanic_df.drop('Cabin', axis=1, inplace=True) # Drop the original column"
      ]
    },
    {
      "cell_type": "markdown",
      "metadata": {
        "id": "d10a3Fbn3DXl"
      },
      "source": [
        "titanic_df['Cabin'].notna(): This checks each value in the 'Cabin' column to see if it is not a missing value (NaN). It returns a boolean Series (True for non-missing, False for missing)."
      ]
    },
    {
      "cell_type": "code",
      "execution_count": null,
      "metadata": {
        "colab": {
          "base_uri": "https://localhost:8080/",
          "height": 178
        },
        "id": "dN3SUGwb8M7W",
        "outputId": "b5fe1456-6af8-4bc6-9301-36015246068a"
      },
      "outputs": [],
      "source": [
        "titanic_df['Has_Cabin'].value_counts()"
      ]
    },
    {
      "cell_type": "code",
      "execution_count": null,
      "metadata": {
        "colab": {
          "base_uri": "https://localhost:8080/",
          "height": 504
        },
        "id": "7OS3Mt_92ksm",
        "outputId": "f133cab0-898d-4a2d-b7f6-085b2bff2b7c"
      },
      "outputs": [],
      "source": [
        "titanic_df.head(5)"
      ]
    },
    {
      "cell_type": "code",
      "execution_count": null,
      "metadata": {
        "colab": {
          "base_uri": "https://localhost:8080/",
          "height": 478
        },
        "id": "jQGzGApwwv59",
        "outputId": "5b796751-8611-40f2-dd45-88ce66502ead"
      },
      "outputs": [],
      "source": [
        "# Verify that there are no more missing values in the columns we handled\n",
        "print(\"Missing values after cleaning:\")\n",
        "titanic_df.isna().sum()"
      ]
    },
    {
      "cell_type": "markdown",
      "metadata": {
        "id": "univariate_markdown"
      },
      "source": [
        "### Step 4: Univariate Analysis\n",
        "\n"
      ]
    },
    {
      "cell_type": "markdown",
      "metadata": {
        "id": "theory_univariate"
      },
      "source": [
        "#### **Theoretical Concept: Univariate Analysis**\n",
        "\n",
        "This is the simplest form of data analysis, where the data being analyzed contains only one variable. The main purpose is to describe the data and find patterns within it.\n",
        "- **For Categorical Variables:** We use frequency tables, bar charts (`countplot`), or pie charts to see the count or proportion of each category.\n",
        "- **For Numerical Variables:** We use histograms (`histplot`) or kernel density plots (`kdeplot`) to understand the distribution, and box plots (`boxplot`) to identify the central tendency, spread, and outliers."
      ]
    },
    {
      "cell_type": "code",
      "execution_count": null,
      "metadata": {
        "colab": {
          "base_uri": "https://localhost:8080/",
          "height": 532
        },
        "id": "univariate_categorical_code",
        "outputId": "eb182671-ea10-411b-d5d1-4ac409375efc"
      },
      "outputs": [],
      "source": [
        "print(\"Analyzing categorical features:\")\n",
        "\n",
        "# Set up the figure for plotting\n",
        "fig, axes = plt.subplots(2, 3, figsize=(18, 12))\n",
        "fig.suptitle('Univariate Analysis of Categorical Features', fontsize=16)\n",
        "\n",
        "# Plotting each categorical feature\n",
        "sns.countplot(ax=axes[0, 0], x='Survived', data=titanic_df).set_title('Survival Distribution')\n",
        "sns.countplot(ax=axes[0, 1], x='Pclass', data=titanic_df).set_title('Passenger Class Distribution')\n",
        "sns.countplot(ax=axes[0, 2], x='Sex', data=titanic_df).set_title('Gender Distribution')\n",
        "sns.countplot(ax=axes[1, 0], x='Embarked', data=titanic_df).set_title('Port of Embarkation')\n",
        "sns.countplot(ax=axes[1, 1], x='SibSp', data=titanic_df).set_title('Siblings/Spouses Aboard')\n",
        "sns.countplot(ax=axes[1, 2], x='Parch', data=titanic_df).set_title('Parents/Children Aboard')\n",
        "\n",
        "plt.tight_layout(rect=[0, 0, 1, 0.96])\n",
        "plt.show()"
      ]
    },
    {
      "cell_type": "markdown",
      "metadata": {
        "id": "univariate_categorical_summary"
      },
      "source": [
        "**Key Insights (Categorical):**\n",
        "- **Survival:** Most passengers (over 500) did not survive.\n",
        "- **Pclass:** The 3rd class was the most populated, followed by 1st and then 2nd.\n",
        "- **Sex:** There were significantly more males than females.\n",
        "- **Embarked:** The vast majority of passengers embarked from Southampton ('S').\n",
        "- **SibSp & Parch:** Most passengers traveled alone."
      ]
    },
    {
      "cell_type": "code",
      "execution_count": null,
      "metadata": {
        "colab": {
          "base_uri": "https://localhost:8080/",
          "height": 389
        },
        "id": "univariate_numerical_code",
        "outputId": "21758c6e-7d42-4b87-d8a7-a30245a6e278"
      },
      "outputs": [],
      "source": [
        "print(\"\\nAnalyzing numerical features:\")\n",
        "\n",
        "fig, axes = plt.subplots(1, 2, figsize=(16, 6))\n",
        "fig.suptitle('Univariate Analysis of Numerical Features', fontsize=16)\n",
        "\n",
        "# Plotting Age distribution\n",
        "sns.histplot(ax=axes[0], data=titanic_df, x='Age', kde=True, bins=30).set_title('Age Distribution')\n",
        "\n",
        "# Plotting Fare distribution\n",
        "sns.histplot(ax=axes[1], data=titanic_df, x='Fare', kde=True, bins=40).set_title('Fare Distribution')\n",
        "\n",
        "plt.show()"
      ]
    },
    {
      "cell_type": "markdown",
      "metadata": {
        "id": "univariate_numerical_summary"
      },
      "source": [
        "**Key Insights (Numerical):**\n",
        "- **Age:** The distribution peaks around the 20-30 age range. Remember we filled missing values with the median (28), which contributes to the height of that central bar.\n",
        "- **Fare:** The distribution is heavily right-skewed, confirming that most tickets were cheap, with a few very expensive exceptions."
      ]
    },
    {
      "cell_type": "markdown",
      "metadata": {
        "id": "bivariate_markdown"
      },
      "source": [
        "### Step 5: Bivariate Analysis\n",
        "\n"
      ]
    },
    {
      "cell_type": "markdown",
      "metadata": {
        "id": "theory_bivariate"
      },
      "source": [
        "#### **Theoretical Concept: Bivariate Analysis**\n",
        "This type of analysis involves two different variables, and its main purpose is to find relationships between them.\n",
        "- **Categorical vs. Numerical:** To compare a numerical variable across different categories, we often use bar plots (`barplot`) that show the mean (or another estimator) of the numerical variable for each category. We can also use box plots or violin plots.\n",
        "- **Categorical vs. Categorical:** We can use stacked bar charts or contingency tables (crosstabs).\n",
        "- **Numerical vs. Numerical:** A scatter plot is the standard choice, with a correlation matrix being used to quantify the relationship."
      ]
    },
    {
      "cell_type": "code",
      "execution_count": null,
      "metadata": {
        "colab": {
          "base_uri": "https://localhost:8080/",
          "height": 595
        },
        "id": "bivariate_code",
        "outputId": "1ccba26e-a48d-4367-aece-b2a49e10dab4"
      },
      "outputs": [],
      "source": [
        "print(\"Bivariate Analysis: Feature vs. Survival\")\n",
        "\n",
        "fig, axes = plt.subplots(2, 2, figsize=(16, 12))\n",
        "fig.suptitle('Bivariate Analysis with Survival', fontsize=16)\n",
        "\n",
        "# Pclass vs. Survived\n",
        "sns.barplot(ax=axes[0, 0], x='Pclass', y='Survived', data=titanic_df).set_title('Survival Rate by Pclass')\n",
        "\n",
        "# Sex vs. Survived\n",
        "sns.barplot(ax=axes[0, 1], x='Sex', y='Survived', data=titanic_df).set_title('Survival Rate by Sex')\n",
        "\n",
        "# Embarked vs. Survived\n",
        "sns.barplot(ax=axes[1, 0], x='Embarked', y='Survived', data=titanic_df).set_title('Survival Rate by Port')\n",
        "\n",
        "# Has_Cabin vs. Survived\n",
        "sns.barplot(ax=axes[1, 1], x='Has_Cabin', y='Survived', data=titanic_df).set_title('Survival Rate by Cabin Availability')\n",
        "\n",
        "plt.tight_layout(rect=[0, 0, 1, 0.96])\n",
        "plt.show()"
      ]
    },
    {
      "cell_type": "markdown",
      "metadata": {
        "id": "bivariate_summary"
      },
      "source": [
        "**Key Insights (Bivariate):**\n",
        "- **Pclass:** A clear trend emerges: 1st class passengers had a >60% survival rate, while 3rd class passengers had less than 25%.\n",
        "- **Sex:** This is the strongest predictor. Females had a survival rate of ~75%, while males had a rate below 20%.\n",
        "- **Embarked:** Passengers embarking from Cherbourg ('C') had a higher survival rate than those from the other ports.\n",
        "- **Has_Cabin:** Passengers with a registered cabin number had a much higher survival rate. This is likely correlated with being in 1st class."
      ]
    },
    {
      "cell_type": "code",
      "execution_count": null,
      "metadata": {
        "colab": {
          "base_uri": "https://localhost:8080/",
          "height": 408
        },
        "id": "bivariate_age_code",
        "outputId": "c82452e8-d6e8-48e9-ffe6-e960613c10c3"
      },
      "outputs": [],
      "source": [
        "# Age vs. Survival\n",
        "g = sns.FacetGrid(titanic_df, col='Survived', height=6)\n",
        "g.map(sns.histplot, 'Age', bins=25, kde=True)\n",
        "plt.suptitle('Age Distribution by Survival Status', y=1.02)\n",
        "plt.show()"
      ]
    },
    {
      "cell_type": "markdown",
      "metadata": {
        "id": "bivariate_age_summary"
      },
      "source": [
        "**Key Insight (Age vs. Survival):**\n",
        "- Infants and young children had a higher probability of survival.\n",
        "- A large portion of non-survivors were young adults (20-40).\n",
        "- The oldest passengers (80 years) did not survive."
      ]
    },
    {
      "cell_type": "markdown",
      "metadata": {
        "id": "outlier_markdown"
      },
      "source": [
        "#### Deeper Dive: Outlier Analysis for 'Fare'\n",
        "The `.describe()` function and histogram showed that `Fare` has extreme outliers. Let's visualize this clearly with a box plot."
      ]
    },
    {
      "cell_type": "code",
      "execution_count": null,
      "metadata": {
        "colab": {
          "base_uri": "https://localhost:8080/",
          "height": 594
        },
        "id": "outlier_code",
        "outputId": "7cc3904f-afc1-4cbf-9598-b396945b464f"
      },
      "outputs": [],
      "source": [
        "plt.figure(figsize=(10, 8))\n",
        "sns.boxplot(y='Fare', data=titanic_df)\n",
        "plt.title('Box Plot of Ticket Fare')\n",
        "plt.ylabel('Fare')\n",
        "plt.show()"
      ]
    },
    {
      "cell_type": "markdown",
      "metadata": {
        "id": "outlier_summary"
      },
      "source": [
        "**Observation:**\n",
        "The box plot confirms the presence of significant outliers. Most fares are concentrated below \\$100, but there are several fares extending far beyond, with some even exceeding \\$500. These are likely first-class passengers who booked luxurious suites. For some machine learning models, handling these outliers (e.g., through log transformation) would be an important step."
      ]
    },
    {
      "cell_type": "markdown",
      "metadata": {
        "id": "feature_eng_markdown"
      },
      "source": [
        "### Step 6: Feature Engineering\n"
      ]
    },
    {
      "cell_type": "markdown",
      "metadata": {
        "id": "theory_feature_eng"
      },
      "source": [
        "#### **Theoretical Concept: Feature Engineering**\n",
        "Feature engineering is the process of using domain knowledge to extract features (characteristics, properties, attributes) from raw data. A good feature should be relevant to the problem and easy for a model to understand.\n",
        "\n",
        "**Common Techniques:**\n",
        "1.  **Combining Features:** Creating a new feature by combining others (e.g., `SibSp` + `Parch` = `FamilySize`).\n",
        "2.  **Extracting from Text:** Pulling out specific information from a text feature (e.g., extracting titles from the `Name` column).\n",
        "3.  **Binning:** Converting a continuous numerical feature into a categorical one (e.g., binning `Age` into groups like 'Child', 'Adult', 'Senior')."
      ]
    },
    {
      "cell_type": "code",
      "execution_count": null,
      "metadata": {
        "colab": {
          "base_uri": "https://localhost:8080/",
          "height": 224
        },
        "id": "feature_eng_familysize_code",
        "outputId": "d1edcc4f-fb25-49e1-c4c8-81bf95d3b130"
      },
      "outputs": [],
      "source": [
        "# 1. Create a 'FamilySize' feature\n",
        "titanic_df['FamilySize'] = titanic_df['SibSp'] + titanic_df['Parch'] + 1 # +1 for the person themselves\n",
        "\n",
        "# 2. Create an 'IsAlone' feature\n",
        "titanic_df['IsAlone'] = 0\n",
        "titanic_df.loc[titanic_df['FamilySize'] == 1, 'IsAlone'] = 1\n",
        "\n",
        "print(\"Created 'FamilySize' and 'IsAlone' features:\")\n",
        "titanic_df[['FamilySize', 'IsAlone']].head()"
      ]
    },
    {
      "cell_type": "code",
      "execution_count": null,
      "metadata": {
        "colab": {
          "base_uri": "https://localhost:8080/",
          "height": 335
        },
        "id": "analyze_familysize_code",
        "outputId": "ce62f04b-094a-4144-9b22-331516bdbfb7"
      },
      "outputs": [],
      "source": [
        "# Analyze the new family-related features against survival\n",
        "fig, axes = plt.subplots(1, 2, figsize=(16, 6))\n",
        "\n",
        "# Survival Rate by FamilySize\n",
        "sns.barplot(ax=axes[0], x='FamilySize', y='Survived', data=titanic_df).set_title('Survival Rate by Family Size')\n",
        "\n",
        "# Survival Rate by IsAlone\n",
        "sns.barplot(ax=axes[1], x='IsAlone', y='Survived', data=titanic_df).set_title('Survival Rate for Those Traveling Alone')\n",
        "\n",
        "plt.show()"
      ]
    },
    {
      "cell_type": "markdown",
      "metadata": {
        "id": "analyze_familysize_summary"
      },
      "source": [
        "**Insight:**\n",
        "- Passengers who were alone (`IsAlone=1`) had a lower survival rate (~30%) than those in small families.\n",
        "- Small families of 2 to 4 members had the highest survival rates.\n",
        "- Very large families (5 or more) had a very poor survival rate. This might be because it was harder for large families to stay together and evacuate."
      ]
    },
    {
      "cell_type": "markdown",
      "metadata": {
        "id": "iGDfkmfeCtQI"
      },
      "source": [
        "* Matches a space.\n",
        "* Titles in the names are usually preceded by a space.\n",
        "([A-Za-z]+): This is the capturing group.\n",
        "* [A-Za-z]+: Matches one or more uppercase or lowercase letters. This captures the title itself (like Mr, Mrs, Miss, etc.).\n",
        "* \\.: Matches a literal dot (.) which usually follows the title."
      ]
    },
    {
      "cell_type": "code",
      "execution_count": null,
      "metadata": {
        "colab": {
          "base_uri": "https://localhost:8080/",
          "height": 666
        },
        "id": "feature_eng_title_code",
        "outputId": "60968ab3-43f0-4e37-8504-1034d72cd014"
      },
      "outputs": [],
      "source": [
        "# 3. Extract 'Title' from the 'Name' column\n",
        "titanic_df['Title'] = titanic_df['Name'].str.extract(r' ([A-Za-z]+)\\.', expand=False)\n",
        "\n",
        "# Let's see the different titles\n",
        "print(\"Extracted Titles:\")\n",
        "titanic_df['Title'].value_counts()"
      ]
    },
    {
      "cell_type": "code",
      "execution_count": null,
      "metadata": {
        "colab": {
          "base_uri": "https://localhost:8080/",
          "height": 432
        },
        "id": "clean_title_code",
        "outputId": "ca173553-bd48-4994-98d1-240d46b48e93"
      },
      "outputs": [],
      "source": [
        "# Simplify the titles by grouping rare ones into a 'Rare' category\n",
        "titanic_df['Title'] = titanic_df['Title'].replace(['Lady', 'Countess','Capt', 'Col','Don', 'Dr', 'Major', 'Rev', 'Sir', 'Jonkheer', 'Dona'], 'Rare')\n",
        "\n",
        "titanic_df['Title'] = titanic_df['Title'].replace('Mlle', 'Miss')\n",
        "titanic_df['Title'] = titanic_df['Title'].replace('Ms', 'Miss')\n",
        "titanic_df['Title'] = titanic_df['Title'].replace('Mme', 'Mrs')\n",
        "\n",
        "# Let's see the survival rate by the new, cleaned titles\n",
        "plt.figure(figsize=(12, 6))\n",
        "sns.barplot(x='Title', y='Survived', data=titanic_df)\n",
        "plt.title('Survival Rate by Title')\n",
        "plt.ylabel('Survival Probability')\n",
        "plt.show()"
      ]
    },
    {
      "cell_type": "markdown",
      "metadata": {
        "id": "clean_title_summary"
      },
      "source": [
        "**Insight:**\n",
        "The `Title` feature gives us powerful information. 'Mrs' and 'Miss' (females) had high survival rates. 'Mr' (males) had a very low survival rate. 'Master' (young boys) had a significantly higher survival rate than 'Mr', reinforcing the 'children first' idea. The 'Rare' titles, often associated with nobility or status, also had a mixed but generally higher survival rate than common men."
      ]
    },
    {
      "cell_type": "markdown",
      "metadata": {
        "id": "multivariate_markdown"
      },
      "source": [
        "### Step 7: Multivariate Analysis\n",
        "\n",
        "Now we explore interactions between multiple variables simultaneously, including our new engineered features."
      ]
    },
    {
      "cell_type": "code",
      "execution_count": null,
      "metadata": {
        "colab": {
          "base_uri": "https://localhost:8080/",
          "height": 478
        },
        "id": "multivariate_code",
        "outputId": "6431a655-c5a9-421b-b86e-e8d82eb3ef0d"
      },
      "outputs": [],
      "source": [
        "# Survival rate by Pclass and Sex\n",
        "sns.catplot(x='Pclass', y='Survived', hue='Sex', data=titanic_df, kind='bar', height=6, aspect=1.5)\n",
        "plt.title('Survival Rate by Pclass and Sex')\n",
        "plt.ylabel('Survival Probability')\n",
        "plt.show()\n",
        "\n",
        "# Insights: Females in all classes had a significantly higher survival rate than males."
      ]
    },
    {
      "cell_type": "code",
      "execution_count": null,
      "metadata": {
        "colab": {
          "base_uri": "https://localhost:8080/",
          "height": 478
        },
        "id": "multivariate_violin_plot",
        "outputId": "3dd4af1d-2fa0-426d-b870-0bdc3e7554c1"
      },
      "outputs": [],
      "source": [
        "# Violin plot to see age distribution by sex and survival status\n",
        "plt.figure(figsize=(14, 8))\n",
        "sns.violinplot(x='Sex', y='Age', hue='Survived', data=titanic_df, split=True, palette={0: 'blue', 1: 'orange'})\n",
        "plt.title('Age Distribution by Sex and Survival')\n",
        "plt.show()"
      ]
    },
    {
      "cell_type": "markdown",
      "metadata": {
        "id": "multivariate_violin_summary"
      },
      "source": [
        "**Insight from Violin Plot:**\n",
        "- For males, the peak of the distribution for survivors (orange) is at a very young age (children), while the peak for non-survivors is in the 20-30 range.\n",
        "- For females, the distribution of survivors is much broader, indicating that females of most ages had a good chance of surviving."
      ]
    },
    {
      "cell_type": "markdown",
      "metadata": {
        "id": "correlation_markdown"
      },
      "source": [
        "### Step 8: Correlation Analysis"
      ]
    },
    {
      "cell_type": "code",
      "execution_count": null,
      "metadata": {
        "colab": {
          "base_uri": "https://localhost:8080/",
          "height": 575
        },
        "id": "correlation_heatmap_code",
        "outputId": "26952f01-d4d8-4908-f8bf-4a6767c032f0"
      },
      "outputs": [],
      "source": [
        "# Correlation Heatmap for numerical features\n",
        "plt.figure(figsize=(14, 10))\n",
        "numeric_cols = titanic_df.select_dtypes(include=np.number)\n",
        "correlation_matrix = numeric_cols.corr()\n",
        "sns.heatmap(correlation_matrix, annot=True, cmap='coolwarm', fmt='.2f')\n",
        "plt.title('Correlation Matrix of Numerical Features')\n",
        "plt.show()"
      ]
    },
    {
      "cell_type": "markdown",
      "metadata": {
        "id": "correlation_summary"
      },
      "source": [
        "**Interpretation of the Heatmap:**\n",
        "- **`Survived`** has a notable positive correlation with `Fare` and `Has_Cabin`, and a negative correlation with `Pclass` and our new `IsAlone` feature.\n",
        "- **`Pclass`** and `Fare` are strongly negatively correlated, which makes sense (1st class = high fare).\n",
        "- Our new **`FamilySize`** feature is composed of `SibSp` and `Parch`, so it's highly correlated with them by definition."
      ]
    },
    {
      "cell_type": "markdown",
      "metadata": {
        "id": "OvT0Eyj-SFNv"
      },
      "source": [
        "# Y-profiling of the data analysis\n"
      ]
    },
    {
      "cell_type": "code",
      "execution_count": null,
      "metadata": {
        "colab": {
          "base_uri": "https://localhost:8080/"
        },
        "id": "VceHoRvqxs7F",
        "outputId": "bae4da6e-8547-49c9-f7e7-9ca510a686e9"
      },
      "outputs": [],
      "source": [
        "# Install ydata-profiling\n",
        "!pip install ydata-profiling -q"
      ]
    },
    {
      "cell_type": "code",
      "execution_count": null,
      "metadata": {
        "colab": {
          "base_uri": "https://localhost:8080/",
          "height": 1000,
          "referenced_widgets": [
            "fb7d474ba5e24d50bed3b8d4c24fa93d",
            "ada55fa29d724a539cd0f318d2f80116",
            "c934af77d4714bc287fef29285953fef",
            "1c8a0744fab349349277c41c2a5ea09e",
            "b278d26d1e1646e5b5a7ce4389e5a977",
            "d734feea851c4004962abdd570dffe6e",
            "b13a3c0da18b427f9bbba28505deeb59",
            "fbc4233b39ca4c1982fc1b3abeb6961a",
            "14479e612c55449aa86b70f086441589",
            "5d3ab06cc2a148b3aefb7eeca3f81301",
            "fca9ed1ea10b4c20a5889c109d1cd001",
            "b4c48fbe462049a7be27b6acfed232af",
            "5891398b3ef34a438052a48a7f656712",
            "d2d600d006e840bfbe9338d2440c17d3",
            "d53e66ab97554940b742da4fb0b734ff",
            "4c3fc4cca95e4c769054a2b6d3606bdd",
            "addfccb96a8d426384ff0bcf8708ca33",
            "0c94e64fd61346d0a27405ef6a2e6994",
            "9fb2b0c846d545b3891643d8e860764e",
            "41840a07d3664eaf820b91ad93b8abab",
            "7bab133aa32c4427b9886f656e5756ff",
            "1da4c2476cc74885b43d08b262b0cc85",
            "3459d1ce6d8a465db6781f7b9171b971",
            "d2d9374dca4a4458a465267d2f05a37e",
            "52d7a3afd79f4aa585d34517b6eb2873",
            "c4c9dc5fa186427592a6610e766c50aa",
            "4cf636c88acb4866b65a316341f4f259",
            "f87b4d42de9a4d15907e66e782ca87a3",
            "d69e41af4da64fcebeb305d15e462af4",
            "70460184e08e4f24ad1675eb4fa08985",
            "3afc8640a5b84ee3867de18844fbed10",
            "2975f559cef94190bef8c69e558aad24",
            "7ec072b79a6944f0a26a36eebca0d7c6"
          ]
        },
        "id": "-4-C4MgHygiF",
        "outputId": "32458389-bb10-44d7-abef-64cc1a094526"
      },
      "outputs": [],
      "source": [
        "# Generate the profiling report\n",
        "from ydata_profiling import ProfileReport\n",
        "\n",
        "profile = ProfileReport(titanic_df, title=\"Titanic Dataset Profiling Report\")\n",
        "\n",
        "# Display the report in the notebook\n",
        "profile.to_notebook_iframe()"
      ]
    },
    {
      "cell_type": "code",
      "execution_count": null,
      "metadata": {
        "colab": {
          "base_uri": "https://localhost:8080/",
          "height": 49,
          "referenced_widgets": [
            "ba9e2e08e1464c089f02b208f8842b46",
            "b5d01f9eb2534952b4837dbb460d7e02",
            "9b8f3ad100d84b91b87e884a304ef6f9",
            "971459068aaa4ff7a226ecee6289c286",
            "244596c5860245f3902422d251dca18e",
            "d774d2812e53448fae9350fe35d8cfd0",
            "36dd1b185e27419e9fbb2a680836d74e",
            "46fdf58c0ffc48728d6d598dee682f2e",
            "05d60f82f06e4e799e09bb31f6396467",
            "f546edc755634b37a1be6a9e3677317f",
            "ada184bb84f046a79fcffdb87ddc9c2c"
          ]
        },
        "id": "vKlgRdQvy9A9",
        "outputId": "249ee5a7-b678-4e2a-9af3-c81a7a5745ab"
      },
      "outputs": [],
      "source": [
        "# Save the report to an HTML file\n",
        "profile.to_file(\"Titanic_data.html\")"
      ]
    },
    {
      "cell_type": "markdown",
      "metadata": {
        "id": "conclusion_markdown"
      },
      "source": [
        "### Step 9: Final Conclusion and Summary of Insights\n",
        "\n",
        "This end-to-end EDA has provided a deep understanding of the Titanic dataset. Our analysis confirms the \"women and children first\" narrative and highlights the stark social inequalities of the time. Through feature engineering, we've created even more powerful predictors for a potential machine learning model.\n",
        "\n",
        "**Key Findings:**\n",
        "1.  **Strongest Predictors of Survival:**\n",
        "    - **Title & Sex:** Being female ('Mrs', 'Miss') was the single most significant advantage. Our engineered `Title` feature captures this nuance better than `Sex` alone, also showing that young boys ('Master') had a much higher survival rate than adult men ('Mr').\n",
        "    - **Passenger Class:** There was a clear survival hierarchy: 1st > 2nd > 3rd class.\n",
        "    - **Age:** Children and infants had a higher survival rate.\n",
        "\n",
        "2.  **Other Influential Factors:**\n",
        "    - **Family Size:** Traveling in a small family (2-4 members) increased survival chances, while traveling alone or in a very large family decreased them.\n",
        "    - **Fare/Cabin:** Having a cabin (and thus paying a higher fare) was strongly correlated with survival, acting as a proxy for wealth and passenger class.\n",
        "    - **Port of Embarkation:** Passengers from Cherbourg ('C') had a higher survival rate, possibly because a higher proportion of them were in 1st class.\n",
        "\n",
        "These insights are fundamental for the next step in the data science pipeline: building a predictive machine learning model to forecast survival."
      ]
    }
  ],
  "metadata": {
    "colab": {
      "provenance": []
    },
    "kernelspec": {
      "display_name": ".venv",
      "language": "python",
      "name": "python3"
    },
    "language_info": {
      "name": "python",
      "version": "3.13.5"
    },
    "widgets": {
      "application/vnd.jupyter.widget-state+json": {
        "05d60f82f06e4e799e09bb31f6396467": {
          "model_module": "@jupyter-widgets/controls",
          "model_module_version": "1.5.0",
          "model_name": "ProgressStyleModel",
          "state": {
            "_model_module": "@jupyter-widgets/controls",
            "_model_module_version": "1.5.0",
            "_model_name": "ProgressStyleModel",
            "_view_count": null,
            "_view_module": "@jupyter-widgets/base",
            "_view_module_version": "1.2.0",
            "_view_name": "StyleView",
            "bar_color": null,
            "description_width": ""
          }
        },
        "0c94e64fd61346d0a27405ef6a2e6994": {
          "model_module": "@jupyter-widgets/controls",
          "model_module_version": "1.5.0",
          "model_name": "DescriptionStyleModel",
          "state": {
            "_model_module": "@jupyter-widgets/controls",
            "_model_module_version": "1.5.0",
            "_model_name": "DescriptionStyleModel",
            "_view_count": null,
            "_view_module": "@jupyter-widgets/base",
            "_view_module_version": "1.2.0",
            "_view_name": "StyleView",
            "description_width": ""
          }
        },
        "14479e612c55449aa86b70f086441589": {
          "model_module": "@jupyter-widgets/controls",
          "model_module_version": "1.5.0",
          "model_name": "ProgressStyleModel",
          "state": {
            "_model_module": "@jupyter-widgets/controls",
            "_model_module_version": "1.5.0",
            "_model_name": "ProgressStyleModel",
            "_view_count": null,
            "_view_module": "@jupyter-widgets/base",
            "_view_module_version": "1.2.0",
            "_view_name": "StyleView",
            "bar_color": null,
            "description_width": ""
          }
        },
        "1c8a0744fab349349277c41c2a5ea09e": {
          "model_module": "@jupyter-widgets/controls",
          "model_module_version": "1.5.0",
          "model_name": "HTMLModel",
          "state": {
            "_dom_classes": [],
            "_model_module": "@jupyter-widgets/controls",
            "_model_module_version": "1.5.0",
            "_model_name": "HTMLModel",
            "_view_count": null,
            "_view_module": "@jupyter-widgets/controls",
            "_view_module_version": "1.5.0",
            "_view_name": "HTMLView",
            "description": "",
            "description_tooltip": null,
            "layout": "IPY_MODEL_5d3ab06cc2a148b3aefb7eeca3f81301",
            "placeholder": "​",
            "style": "IPY_MODEL_fca9ed1ea10b4c20a5889c109d1cd001",
            "value": " 60/60 [00:08&lt;00:00,  3.77it/s, Completed]"
          }
        },
        "1da4c2476cc74885b43d08b262b0cc85": {
          "model_module": "@jupyter-widgets/controls",
          "model_module_version": "1.5.0",
          "model_name": "DescriptionStyleModel",
          "state": {
            "_model_module": "@jupyter-widgets/controls",
            "_model_module_version": "1.5.0",
            "_model_name": "DescriptionStyleModel",
            "_view_count": null,
            "_view_module": "@jupyter-widgets/base",
            "_view_module_version": "1.2.0",
            "_view_name": "StyleView",
            "description_width": ""
          }
        },
        "244596c5860245f3902422d251dca18e": {
          "model_module": "@jupyter-widgets/base",
          "model_module_version": "1.2.0",
          "model_name": "LayoutModel",
          "state": {
            "_model_module": "@jupyter-widgets/base",
            "_model_module_version": "1.2.0",
            "_model_name": "LayoutModel",
            "_view_count": null,
            "_view_module": "@jupyter-widgets/base",
            "_view_module_version": "1.2.0",
            "_view_name": "LayoutView",
            "align_content": null,
            "align_items": null,
            "align_self": null,
            "border": null,
            "bottom": null,
            "display": null,
            "flex": null,
            "flex_flow": null,
            "grid_area": null,
            "grid_auto_columns": null,
            "grid_auto_flow": null,
            "grid_auto_rows": null,
            "grid_column": null,
            "grid_gap": null,
            "grid_row": null,
            "grid_template_areas": null,
            "grid_template_columns": null,
            "grid_template_rows": null,
            "height": null,
            "justify_content": null,
            "justify_items": null,
            "left": null,
            "margin": null,
            "max_height": null,
            "max_width": null,
            "min_height": null,
            "min_width": null,
            "object_fit": null,
            "object_position": null,
            "order": null,
            "overflow": null,
            "overflow_x": null,
            "overflow_y": null,
            "padding": null,
            "right": null,
            "top": null,
            "visibility": null,
            "width": null
          }
        },
        "2975f559cef94190bef8c69e558aad24": {
          "model_module": "@jupyter-widgets/base",
          "model_module_version": "1.2.0",
          "model_name": "LayoutModel",
          "state": {
            "_model_module": "@jupyter-widgets/base",
            "_model_module_version": "1.2.0",
            "_model_name": "LayoutModel",
            "_view_count": null,
            "_view_module": "@jupyter-widgets/base",
            "_view_module_version": "1.2.0",
            "_view_name": "LayoutView",
            "align_content": null,
            "align_items": null,
            "align_self": null,
            "border": null,
            "bottom": null,
            "display": null,
            "flex": null,
            "flex_flow": null,
            "grid_area": null,
            "grid_auto_columns": null,
            "grid_auto_flow": null,
            "grid_auto_rows": null,
            "grid_column": null,
            "grid_gap": null,
            "grid_row": null,
            "grid_template_areas": null,
            "grid_template_columns": null,
            "grid_template_rows": null,
            "height": null,
            "justify_content": null,
            "justify_items": null,
            "left": null,
            "margin": null,
            "max_height": null,
            "max_width": null,
            "min_height": null,
            "min_width": null,
            "object_fit": null,
            "object_position": null,
            "order": null,
            "overflow": null,
            "overflow_x": null,
            "overflow_y": null,
            "padding": null,
            "right": null,
            "top": null,
            "visibility": null,
            "width": null
          }
        },
        "3459d1ce6d8a465db6781f7b9171b971": {
          "model_module": "@jupyter-widgets/controls",
          "model_module_version": "1.5.0",
          "model_name": "HBoxModel",
          "state": {
            "_dom_classes": [],
            "_model_module": "@jupyter-widgets/controls",
            "_model_module_version": "1.5.0",
            "_model_name": "HBoxModel",
            "_view_count": null,
            "_view_module": "@jupyter-widgets/controls",
            "_view_module_version": "1.5.0",
            "_view_name": "HBoxView",
            "box_style": "",
            "children": [
              "IPY_MODEL_d2d9374dca4a4458a465267d2f05a37e",
              "IPY_MODEL_52d7a3afd79f4aa585d34517b6eb2873",
              "IPY_MODEL_c4c9dc5fa186427592a6610e766c50aa"
            ],
            "layout": "IPY_MODEL_4cf636c88acb4866b65a316341f4f259"
          }
        },
        "36dd1b185e27419e9fbb2a680836d74e": {
          "model_module": "@jupyter-widgets/controls",
          "model_module_version": "1.5.0",
          "model_name": "DescriptionStyleModel",
          "state": {
            "_model_module": "@jupyter-widgets/controls",
            "_model_module_version": "1.5.0",
            "_model_name": "DescriptionStyleModel",
            "_view_count": null,
            "_view_module": "@jupyter-widgets/base",
            "_view_module_version": "1.2.0",
            "_view_name": "StyleView",
            "description_width": ""
          }
        },
        "3afc8640a5b84ee3867de18844fbed10": {
          "model_module": "@jupyter-widgets/controls",
          "model_module_version": "1.5.0",
          "model_name": "ProgressStyleModel",
          "state": {
            "_model_module": "@jupyter-widgets/controls",
            "_model_module_version": "1.5.0",
            "_model_name": "ProgressStyleModel",
            "_view_count": null,
            "_view_module": "@jupyter-widgets/base",
            "_view_module_version": "1.2.0",
            "_view_name": "StyleView",
            "bar_color": null,
            "description_width": ""
          }
        },
        "41840a07d3664eaf820b91ad93b8abab": {
          "model_module": "@jupyter-widgets/controls",
          "model_module_version": "1.5.0",
          "model_name": "ProgressStyleModel",
          "state": {
            "_model_module": "@jupyter-widgets/controls",
            "_model_module_version": "1.5.0",
            "_model_name": "ProgressStyleModel",
            "_view_count": null,
            "_view_module": "@jupyter-widgets/base",
            "_view_module_version": "1.2.0",
            "_view_name": "StyleView",
            "bar_color": null,
            "description_width": ""
          }
        },
        "46fdf58c0ffc48728d6d598dee682f2e": {
          "model_module": "@jupyter-widgets/base",
          "model_module_version": "1.2.0",
          "model_name": "LayoutModel",
          "state": {
            "_model_module": "@jupyter-widgets/base",
            "_model_module_version": "1.2.0",
            "_model_name": "LayoutModel",
            "_view_count": null,
            "_view_module": "@jupyter-widgets/base",
            "_view_module_version": "1.2.0",
            "_view_name": "LayoutView",
            "align_content": null,
            "align_items": null,
            "align_self": null,
            "border": null,
            "bottom": null,
            "display": null,
            "flex": null,
            "flex_flow": null,
            "grid_area": null,
            "grid_auto_columns": null,
            "grid_auto_flow": null,
            "grid_auto_rows": null,
            "grid_column": null,
            "grid_gap": null,
            "grid_row": null,
            "grid_template_areas": null,
            "grid_template_columns": null,
            "grid_template_rows": null,
            "height": null,
            "justify_content": null,
            "justify_items": null,
            "left": null,
            "margin": null,
            "max_height": null,
            "max_width": null,
            "min_height": null,
            "min_width": null,
            "object_fit": null,
            "object_position": null,
            "order": null,
            "overflow": null,
            "overflow_x": null,
            "overflow_y": null,
            "padding": null,
            "right": null,
            "top": null,
            "visibility": null,
            "width": null
          }
        },
        "4c3fc4cca95e4c769054a2b6d3606bdd": {
          "model_module": "@jupyter-widgets/base",
          "model_module_version": "1.2.0",
          "model_name": "LayoutModel",
          "state": {
            "_model_module": "@jupyter-widgets/base",
            "_model_module_version": "1.2.0",
            "_model_name": "LayoutModel",
            "_view_count": null,
            "_view_module": "@jupyter-widgets/base",
            "_view_module_version": "1.2.0",
            "_view_name": "LayoutView",
            "align_content": null,
            "align_items": null,
            "align_self": null,
            "border": null,
            "bottom": null,
            "display": null,
            "flex": null,
            "flex_flow": null,
            "grid_area": null,
            "grid_auto_columns": null,
            "grid_auto_flow": null,
            "grid_auto_rows": null,
            "grid_column": null,
            "grid_gap": null,
            "grid_row": null,
            "grid_template_areas": null,
            "grid_template_columns": null,
            "grid_template_rows": null,
            "height": null,
            "justify_content": null,
            "justify_items": null,
            "left": null,
            "margin": null,
            "max_height": null,
            "max_width": null,
            "min_height": null,
            "min_width": null,
            "object_fit": null,
            "object_position": null,
            "order": null,
            "overflow": null,
            "overflow_x": null,
            "overflow_y": null,
            "padding": null,
            "right": null,
            "top": null,
            "visibility": null,
            "width": null
          }
        },
        "4cf636c88acb4866b65a316341f4f259": {
          "model_module": "@jupyter-widgets/base",
          "model_module_version": "1.2.0",
          "model_name": "LayoutModel",
          "state": {
            "_model_module": "@jupyter-widgets/base",
            "_model_module_version": "1.2.0",
            "_model_name": "LayoutModel",
            "_view_count": null,
            "_view_module": "@jupyter-widgets/base",
            "_view_module_version": "1.2.0",
            "_view_name": "LayoutView",
            "align_content": null,
            "align_items": null,
            "align_self": null,
            "border": null,
            "bottom": null,
            "display": null,
            "flex": null,
            "flex_flow": null,
            "grid_area": null,
            "grid_auto_columns": null,
            "grid_auto_flow": null,
            "grid_auto_rows": null,
            "grid_column": null,
            "grid_gap": null,
            "grid_row": null,
            "grid_template_areas": null,
            "grid_template_columns": null,
            "grid_template_rows": null,
            "height": null,
            "justify_content": null,
            "justify_items": null,
            "left": null,
            "margin": null,
            "max_height": null,
            "max_width": null,
            "min_height": null,
            "min_width": null,
            "object_fit": null,
            "object_position": null,
            "order": null,
            "overflow": null,
            "overflow_x": null,
            "overflow_y": null,
            "padding": null,
            "right": null,
            "top": null,
            "visibility": null,
            "width": null
          }
        },
        "52d7a3afd79f4aa585d34517b6eb2873": {
          "model_module": "@jupyter-widgets/controls",
          "model_module_version": "1.5.0",
          "model_name": "FloatProgressModel",
          "state": {
            "_dom_classes": [],
            "_model_module": "@jupyter-widgets/controls",
            "_model_module_version": "1.5.0",
            "_model_name": "FloatProgressModel",
            "_view_count": null,
            "_view_module": "@jupyter-widgets/controls",
            "_view_module_version": "1.5.0",
            "_view_name": "ProgressView",
            "bar_style": "success",
            "description": "",
            "description_tooltip": null,
            "layout": "IPY_MODEL_70460184e08e4f24ad1675eb4fa08985",
            "max": 1,
            "min": 0,
            "orientation": "horizontal",
            "style": "IPY_MODEL_3afc8640a5b84ee3867de18844fbed10",
            "value": 1
          }
        },
        "5891398b3ef34a438052a48a7f656712": {
          "model_module": "@jupyter-widgets/controls",
          "model_module_version": "1.5.0",
          "model_name": "HTMLModel",
          "state": {
            "_dom_classes": [],
            "_model_module": "@jupyter-widgets/controls",
            "_model_module_version": "1.5.0",
            "_model_name": "HTMLModel",
            "_view_count": null,
            "_view_module": "@jupyter-widgets/controls",
            "_view_module_version": "1.5.0",
            "_view_name": "HTMLView",
            "description": "",
            "description_tooltip": null,
            "layout": "IPY_MODEL_addfccb96a8d426384ff0bcf8708ca33",
            "placeholder": "​",
            "style": "IPY_MODEL_0c94e64fd61346d0a27405ef6a2e6994",
            "value": "Generate report structure: 100%"
          }
        },
        "5d3ab06cc2a148b3aefb7eeca3f81301": {
          "model_module": "@jupyter-widgets/base",
          "model_module_version": "1.2.0",
          "model_name": "LayoutModel",
          "state": {
            "_model_module": "@jupyter-widgets/base",
            "_model_module_version": "1.2.0",
            "_model_name": "LayoutModel",
            "_view_count": null,
            "_view_module": "@jupyter-widgets/base",
            "_view_module_version": "1.2.0",
            "_view_name": "LayoutView",
            "align_content": null,
            "align_items": null,
            "align_self": null,
            "border": null,
            "bottom": null,
            "display": null,
            "flex": null,
            "flex_flow": null,
            "grid_area": null,
            "grid_auto_columns": null,
            "grid_auto_flow": null,
            "grid_auto_rows": null,
            "grid_column": null,
            "grid_gap": null,
            "grid_row": null,
            "grid_template_areas": null,
            "grid_template_columns": null,
            "grid_template_rows": null,
            "height": null,
            "justify_content": null,
            "justify_items": null,
            "left": null,
            "margin": null,
            "max_height": null,
            "max_width": null,
            "min_height": null,
            "min_width": null,
            "object_fit": null,
            "object_position": null,
            "order": null,
            "overflow": null,
            "overflow_x": null,
            "overflow_y": null,
            "padding": null,
            "right": null,
            "top": null,
            "visibility": null,
            "width": null
          }
        },
        "70460184e08e4f24ad1675eb4fa08985": {
          "model_module": "@jupyter-widgets/base",
          "model_module_version": "1.2.0",
          "model_name": "LayoutModel",
          "state": {
            "_model_module": "@jupyter-widgets/base",
            "_model_module_version": "1.2.0",
            "_model_name": "LayoutModel",
            "_view_count": null,
            "_view_module": "@jupyter-widgets/base",
            "_view_module_version": "1.2.0",
            "_view_name": "LayoutView",
            "align_content": null,
            "align_items": null,
            "align_self": null,
            "border": null,
            "bottom": null,
            "display": null,
            "flex": null,
            "flex_flow": null,
            "grid_area": null,
            "grid_auto_columns": null,
            "grid_auto_flow": null,
            "grid_auto_rows": null,
            "grid_column": null,
            "grid_gap": null,
            "grid_row": null,
            "grid_template_areas": null,
            "grid_template_columns": null,
            "grid_template_rows": null,
            "height": null,
            "justify_content": null,
            "justify_items": null,
            "left": null,
            "margin": null,
            "max_height": null,
            "max_width": null,
            "min_height": null,
            "min_width": null,
            "object_fit": null,
            "object_position": null,
            "order": null,
            "overflow": null,
            "overflow_x": null,
            "overflow_y": null,
            "padding": null,
            "right": null,
            "top": null,
            "visibility": null,
            "width": null
          }
        },
        "7bab133aa32c4427b9886f656e5756ff": {
          "model_module": "@jupyter-widgets/base",
          "model_module_version": "1.2.0",
          "model_name": "LayoutModel",
          "state": {
            "_model_module": "@jupyter-widgets/base",
            "_model_module_version": "1.2.0",
            "_model_name": "LayoutModel",
            "_view_count": null,
            "_view_module": "@jupyter-widgets/base",
            "_view_module_version": "1.2.0",
            "_view_name": "LayoutView",
            "align_content": null,
            "align_items": null,
            "align_self": null,
            "border": null,
            "bottom": null,
            "display": null,
            "flex": null,
            "flex_flow": null,
            "grid_area": null,
            "grid_auto_columns": null,
            "grid_auto_flow": null,
            "grid_auto_rows": null,
            "grid_column": null,
            "grid_gap": null,
            "grid_row": null,
            "grid_template_areas": null,
            "grid_template_columns": null,
            "grid_template_rows": null,
            "height": null,
            "justify_content": null,
            "justify_items": null,
            "left": null,
            "margin": null,
            "max_height": null,
            "max_width": null,
            "min_height": null,
            "min_width": null,
            "object_fit": null,
            "object_position": null,
            "order": null,
            "overflow": null,
            "overflow_x": null,
            "overflow_y": null,
            "padding": null,
            "right": null,
            "top": null,
            "visibility": null,
            "width": null
          }
        },
        "7ec072b79a6944f0a26a36eebca0d7c6": {
          "model_module": "@jupyter-widgets/controls",
          "model_module_version": "1.5.0",
          "model_name": "DescriptionStyleModel",
          "state": {
            "_model_module": "@jupyter-widgets/controls",
            "_model_module_version": "1.5.0",
            "_model_name": "DescriptionStyleModel",
            "_view_count": null,
            "_view_module": "@jupyter-widgets/base",
            "_view_module_version": "1.2.0",
            "_view_name": "StyleView",
            "description_width": ""
          }
        },
        "971459068aaa4ff7a226ecee6289c286": {
          "model_module": "@jupyter-widgets/controls",
          "model_module_version": "1.5.0",
          "model_name": "HTMLModel",
          "state": {
            "_dom_classes": [],
            "_model_module": "@jupyter-widgets/controls",
            "_model_module_version": "1.5.0",
            "_model_name": "HTMLModel",
            "_view_count": null,
            "_view_module": "@jupyter-widgets/controls",
            "_view_module_version": "1.5.0",
            "_view_name": "HTMLView",
            "description": "",
            "description_tooltip": null,
            "layout": "IPY_MODEL_f546edc755634b37a1be6a9e3677317f",
            "placeholder": "​",
            "style": "IPY_MODEL_ada184bb84f046a79fcffdb87ddc9c2c",
            "value": " 1/1 [00:00&lt;00:00, 13.26it/s]"
          }
        },
        "9b8f3ad100d84b91b87e884a304ef6f9": {
          "model_module": "@jupyter-widgets/controls",
          "model_module_version": "1.5.0",
          "model_name": "FloatProgressModel",
          "state": {
            "_dom_classes": [],
            "_model_module": "@jupyter-widgets/controls",
            "_model_module_version": "1.5.0",
            "_model_name": "FloatProgressModel",
            "_view_count": null,
            "_view_module": "@jupyter-widgets/controls",
            "_view_module_version": "1.5.0",
            "_view_name": "ProgressView",
            "bar_style": "success",
            "description": "",
            "description_tooltip": null,
            "layout": "IPY_MODEL_46fdf58c0ffc48728d6d598dee682f2e",
            "max": 1,
            "min": 0,
            "orientation": "horizontal",
            "style": "IPY_MODEL_05d60f82f06e4e799e09bb31f6396467",
            "value": 1
          }
        },
        "9fb2b0c846d545b3891643d8e860764e": {
          "model_module": "@jupyter-widgets/base",
          "model_module_version": "1.2.0",
          "model_name": "LayoutModel",
          "state": {
            "_model_module": "@jupyter-widgets/base",
            "_model_module_version": "1.2.0",
            "_model_name": "LayoutModel",
            "_view_count": null,
            "_view_module": "@jupyter-widgets/base",
            "_view_module_version": "1.2.0",
            "_view_name": "LayoutView",
            "align_content": null,
            "align_items": null,
            "align_self": null,
            "border": null,
            "bottom": null,
            "display": null,
            "flex": null,
            "flex_flow": null,
            "grid_area": null,
            "grid_auto_columns": null,
            "grid_auto_flow": null,
            "grid_auto_rows": null,
            "grid_column": null,
            "grid_gap": null,
            "grid_row": null,
            "grid_template_areas": null,
            "grid_template_columns": null,
            "grid_template_rows": null,
            "height": null,
            "justify_content": null,
            "justify_items": null,
            "left": null,
            "margin": null,
            "max_height": null,
            "max_width": null,
            "min_height": null,
            "min_width": null,
            "object_fit": null,
            "object_position": null,
            "order": null,
            "overflow": null,
            "overflow_x": null,
            "overflow_y": null,
            "padding": null,
            "right": null,
            "top": null,
            "visibility": null,
            "width": null
          }
        },
        "ada184bb84f046a79fcffdb87ddc9c2c": {
          "model_module": "@jupyter-widgets/controls",
          "model_module_version": "1.5.0",
          "model_name": "DescriptionStyleModel",
          "state": {
            "_model_module": "@jupyter-widgets/controls",
            "_model_module_version": "1.5.0",
            "_model_name": "DescriptionStyleModel",
            "_view_count": null,
            "_view_module": "@jupyter-widgets/base",
            "_view_module_version": "1.2.0",
            "_view_name": "StyleView",
            "description_width": ""
          }
        },
        "ada55fa29d724a539cd0f318d2f80116": {
          "model_module": "@jupyter-widgets/controls",
          "model_module_version": "1.5.0",
          "model_name": "HTMLModel",
          "state": {
            "_dom_classes": [],
            "_model_module": "@jupyter-widgets/controls",
            "_model_module_version": "1.5.0",
            "_model_name": "HTMLModel",
            "_view_count": null,
            "_view_module": "@jupyter-widgets/controls",
            "_view_module_version": "1.5.0",
            "_view_name": "HTMLView",
            "description": "",
            "description_tooltip": null,
            "layout": "IPY_MODEL_d734feea851c4004962abdd570dffe6e",
            "placeholder": "​",
            "style": "IPY_MODEL_b13a3c0da18b427f9bbba28505deeb59",
            "value": "Summarize dataset: 100%"
          }
        },
        "addfccb96a8d426384ff0bcf8708ca33": {
          "model_module": "@jupyter-widgets/base",
          "model_module_version": "1.2.0",
          "model_name": "LayoutModel",
          "state": {
            "_model_module": "@jupyter-widgets/base",
            "_model_module_version": "1.2.0",
            "_model_name": "LayoutModel",
            "_view_count": null,
            "_view_module": "@jupyter-widgets/base",
            "_view_module_version": "1.2.0",
            "_view_name": "LayoutView",
            "align_content": null,
            "align_items": null,
            "align_self": null,
            "border": null,
            "bottom": null,
            "display": null,
            "flex": null,
            "flex_flow": null,
            "grid_area": null,
            "grid_auto_columns": null,
            "grid_auto_flow": null,
            "grid_auto_rows": null,
            "grid_column": null,
            "grid_gap": null,
            "grid_row": null,
            "grid_template_areas": null,
            "grid_template_columns": null,
            "grid_template_rows": null,
            "height": null,
            "justify_content": null,
            "justify_items": null,
            "left": null,
            "margin": null,
            "max_height": null,
            "max_width": null,
            "min_height": null,
            "min_width": null,
            "object_fit": null,
            "object_position": null,
            "order": null,
            "overflow": null,
            "overflow_x": null,
            "overflow_y": null,
            "padding": null,
            "right": null,
            "top": null,
            "visibility": null,
            "width": null
          }
        },
        "b13a3c0da18b427f9bbba28505deeb59": {
          "model_module": "@jupyter-widgets/controls",
          "model_module_version": "1.5.0",
          "model_name": "DescriptionStyleModel",
          "state": {
            "_model_module": "@jupyter-widgets/controls",
            "_model_module_version": "1.5.0",
            "_model_name": "DescriptionStyleModel",
            "_view_count": null,
            "_view_module": "@jupyter-widgets/base",
            "_view_module_version": "1.2.0",
            "_view_name": "StyleView",
            "description_width": ""
          }
        },
        "b278d26d1e1646e5b5a7ce4389e5a977": {
          "model_module": "@jupyter-widgets/base",
          "model_module_version": "1.2.0",
          "model_name": "LayoutModel",
          "state": {
            "_model_module": "@jupyter-widgets/base",
            "_model_module_version": "1.2.0",
            "_model_name": "LayoutModel",
            "_view_count": null,
            "_view_module": "@jupyter-widgets/base",
            "_view_module_version": "1.2.0",
            "_view_name": "LayoutView",
            "align_content": null,
            "align_items": null,
            "align_self": null,
            "border": null,
            "bottom": null,
            "display": null,
            "flex": null,
            "flex_flow": null,
            "grid_area": null,
            "grid_auto_columns": null,
            "grid_auto_flow": null,
            "grid_auto_rows": null,
            "grid_column": null,
            "grid_gap": null,
            "grid_row": null,
            "grid_template_areas": null,
            "grid_template_columns": null,
            "grid_template_rows": null,
            "height": null,
            "justify_content": null,
            "justify_items": null,
            "left": null,
            "margin": null,
            "max_height": null,
            "max_width": null,
            "min_height": null,
            "min_width": null,
            "object_fit": null,
            "object_position": null,
            "order": null,
            "overflow": null,
            "overflow_x": null,
            "overflow_y": null,
            "padding": null,
            "right": null,
            "top": null,
            "visibility": null,
            "width": null
          }
        },
        "b4c48fbe462049a7be27b6acfed232af": {
          "model_module": "@jupyter-widgets/controls",
          "model_module_version": "1.5.0",
          "model_name": "HBoxModel",
          "state": {
            "_dom_classes": [],
            "_model_module": "@jupyter-widgets/controls",
            "_model_module_version": "1.5.0",
            "_model_name": "HBoxModel",
            "_view_count": null,
            "_view_module": "@jupyter-widgets/controls",
            "_view_module_version": "1.5.0",
            "_view_name": "HBoxView",
            "box_style": "",
            "children": [
              "IPY_MODEL_5891398b3ef34a438052a48a7f656712",
              "IPY_MODEL_d2d600d006e840bfbe9338d2440c17d3",
              "IPY_MODEL_d53e66ab97554940b742da4fb0b734ff"
            ],
            "layout": "IPY_MODEL_4c3fc4cca95e4c769054a2b6d3606bdd"
          }
        },
        "b5d01f9eb2534952b4837dbb460d7e02": {
          "model_module": "@jupyter-widgets/controls",
          "model_module_version": "1.5.0",
          "model_name": "HTMLModel",
          "state": {
            "_dom_classes": [],
            "_model_module": "@jupyter-widgets/controls",
            "_model_module_version": "1.5.0",
            "_model_name": "HTMLModel",
            "_view_count": null,
            "_view_module": "@jupyter-widgets/controls",
            "_view_module_version": "1.5.0",
            "_view_name": "HTMLView",
            "description": "",
            "description_tooltip": null,
            "layout": "IPY_MODEL_d774d2812e53448fae9350fe35d8cfd0",
            "placeholder": "​",
            "style": "IPY_MODEL_36dd1b185e27419e9fbb2a680836d74e",
            "value": "Export report to file: 100%"
          }
        },
        "ba9e2e08e1464c089f02b208f8842b46": {
          "model_module": "@jupyter-widgets/controls",
          "model_module_version": "1.5.0",
          "model_name": "HBoxModel",
          "state": {
            "_dom_classes": [],
            "_model_module": "@jupyter-widgets/controls",
            "_model_module_version": "1.5.0",
            "_model_name": "HBoxModel",
            "_view_count": null,
            "_view_module": "@jupyter-widgets/controls",
            "_view_module_version": "1.5.0",
            "_view_name": "HBoxView",
            "box_style": "",
            "children": [
              "IPY_MODEL_b5d01f9eb2534952b4837dbb460d7e02",
              "IPY_MODEL_9b8f3ad100d84b91b87e884a304ef6f9",
              "IPY_MODEL_971459068aaa4ff7a226ecee6289c286"
            ],
            "layout": "IPY_MODEL_244596c5860245f3902422d251dca18e"
          }
        },
        "c4c9dc5fa186427592a6610e766c50aa": {
          "model_module": "@jupyter-widgets/controls",
          "model_module_version": "1.5.0",
          "model_name": "HTMLModel",
          "state": {
            "_dom_classes": [],
            "_model_module": "@jupyter-widgets/controls",
            "_model_module_version": "1.5.0",
            "_model_name": "HTMLModel",
            "_view_count": null,
            "_view_module": "@jupyter-widgets/controls",
            "_view_module_version": "1.5.0",
            "_view_name": "HTMLView",
            "description": "",
            "description_tooltip": null,
            "layout": "IPY_MODEL_2975f559cef94190bef8c69e558aad24",
            "placeholder": "​",
            "style": "IPY_MODEL_7ec072b79a6944f0a26a36eebca0d7c6",
            "value": " 1/1 [00:04&lt;00:00,  4.46s/it]"
          }
        },
        "c934af77d4714bc287fef29285953fef": {
          "model_module": "@jupyter-widgets/controls",
          "model_module_version": "1.5.0",
          "model_name": "FloatProgressModel",
          "state": {
            "_dom_classes": [],
            "_model_module": "@jupyter-widgets/controls",
            "_model_module_version": "1.5.0",
            "_model_name": "FloatProgressModel",
            "_view_count": null,
            "_view_module": "@jupyter-widgets/controls",
            "_view_module_version": "1.5.0",
            "_view_name": "ProgressView",
            "bar_style": "success",
            "description": "",
            "description_tooltip": null,
            "layout": "IPY_MODEL_fbc4233b39ca4c1982fc1b3abeb6961a",
            "max": 5,
            "min": 0,
            "orientation": "horizontal",
            "style": "IPY_MODEL_14479e612c55449aa86b70f086441589",
            "value": 5
          }
        },
        "d2d600d006e840bfbe9338d2440c17d3": {
          "model_module": "@jupyter-widgets/controls",
          "model_module_version": "1.5.0",
          "model_name": "FloatProgressModel",
          "state": {
            "_dom_classes": [],
            "_model_module": "@jupyter-widgets/controls",
            "_model_module_version": "1.5.0",
            "_model_name": "FloatProgressModel",
            "_view_count": null,
            "_view_module": "@jupyter-widgets/controls",
            "_view_module_version": "1.5.0",
            "_view_name": "ProgressView",
            "bar_style": "success",
            "description": "",
            "description_tooltip": null,
            "layout": "IPY_MODEL_9fb2b0c846d545b3891643d8e860764e",
            "max": 1,
            "min": 0,
            "orientation": "horizontal",
            "style": "IPY_MODEL_41840a07d3664eaf820b91ad93b8abab",
            "value": 1
          }
        },
        "d2d9374dca4a4458a465267d2f05a37e": {
          "model_module": "@jupyter-widgets/controls",
          "model_module_version": "1.5.0",
          "model_name": "HTMLModel",
          "state": {
            "_dom_classes": [],
            "_model_module": "@jupyter-widgets/controls",
            "_model_module_version": "1.5.0",
            "_model_name": "HTMLModel",
            "_view_count": null,
            "_view_module": "@jupyter-widgets/controls",
            "_view_module_version": "1.5.0",
            "_view_name": "HTMLView",
            "description": "",
            "description_tooltip": null,
            "layout": "IPY_MODEL_f87b4d42de9a4d15907e66e782ca87a3",
            "placeholder": "​",
            "style": "IPY_MODEL_d69e41af4da64fcebeb305d15e462af4",
            "value": "Render HTML: 100%"
          }
        },
        "d53e66ab97554940b742da4fb0b734ff": {
          "model_module": "@jupyter-widgets/controls",
          "model_module_version": "1.5.0",
          "model_name": "HTMLModel",
          "state": {
            "_dom_classes": [],
            "_model_module": "@jupyter-widgets/controls",
            "_model_module_version": "1.5.0",
            "_model_name": "HTMLModel",
            "_view_count": null,
            "_view_module": "@jupyter-widgets/controls",
            "_view_module_version": "1.5.0",
            "_view_name": "HTMLView",
            "description": "",
            "description_tooltip": null,
            "layout": "IPY_MODEL_7bab133aa32c4427b9886f656e5756ff",
            "placeholder": "​",
            "style": "IPY_MODEL_1da4c2476cc74885b43d08b262b0cc85",
            "value": " 1/1 [00:10&lt;00:00, 10.53s/it]"
          }
        },
        "d69e41af4da64fcebeb305d15e462af4": {
          "model_module": "@jupyter-widgets/controls",
          "model_module_version": "1.5.0",
          "model_name": "DescriptionStyleModel",
          "state": {
            "_model_module": "@jupyter-widgets/controls",
            "_model_module_version": "1.5.0",
            "_model_name": "DescriptionStyleModel",
            "_view_count": null,
            "_view_module": "@jupyter-widgets/base",
            "_view_module_version": "1.2.0",
            "_view_name": "StyleView",
            "description_width": ""
          }
        },
        "d734feea851c4004962abdd570dffe6e": {
          "model_module": "@jupyter-widgets/base",
          "model_module_version": "1.2.0",
          "model_name": "LayoutModel",
          "state": {
            "_model_module": "@jupyter-widgets/base",
            "_model_module_version": "1.2.0",
            "_model_name": "LayoutModel",
            "_view_count": null,
            "_view_module": "@jupyter-widgets/base",
            "_view_module_version": "1.2.0",
            "_view_name": "LayoutView",
            "align_content": null,
            "align_items": null,
            "align_self": null,
            "border": null,
            "bottom": null,
            "display": null,
            "flex": null,
            "flex_flow": null,
            "grid_area": null,
            "grid_auto_columns": null,
            "grid_auto_flow": null,
            "grid_auto_rows": null,
            "grid_column": null,
            "grid_gap": null,
            "grid_row": null,
            "grid_template_areas": null,
            "grid_template_columns": null,
            "grid_template_rows": null,
            "height": null,
            "justify_content": null,
            "justify_items": null,
            "left": null,
            "margin": null,
            "max_height": null,
            "max_width": null,
            "min_height": null,
            "min_width": null,
            "object_fit": null,
            "object_position": null,
            "order": null,
            "overflow": null,
            "overflow_x": null,
            "overflow_y": null,
            "padding": null,
            "right": null,
            "top": null,
            "visibility": null,
            "width": null
          }
        },
        "d774d2812e53448fae9350fe35d8cfd0": {
          "model_module": "@jupyter-widgets/base",
          "model_module_version": "1.2.0",
          "model_name": "LayoutModel",
          "state": {
            "_model_module": "@jupyter-widgets/base",
            "_model_module_version": "1.2.0",
            "_model_name": "LayoutModel",
            "_view_count": null,
            "_view_module": "@jupyter-widgets/base",
            "_view_module_version": "1.2.0",
            "_view_name": "LayoutView",
            "align_content": null,
            "align_items": null,
            "align_self": null,
            "border": null,
            "bottom": null,
            "display": null,
            "flex": null,
            "flex_flow": null,
            "grid_area": null,
            "grid_auto_columns": null,
            "grid_auto_flow": null,
            "grid_auto_rows": null,
            "grid_column": null,
            "grid_gap": null,
            "grid_row": null,
            "grid_template_areas": null,
            "grid_template_columns": null,
            "grid_template_rows": null,
            "height": null,
            "justify_content": null,
            "justify_items": null,
            "left": null,
            "margin": null,
            "max_height": null,
            "max_width": null,
            "min_height": null,
            "min_width": null,
            "object_fit": null,
            "object_position": null,
            "order": null,
            "overflow": null,
            "overflow_x": null,
            "overflow_y": null,
            "padding": null,
            "right": null,
            "top": null,
            "visibility": null,
            "width": null
          }
        },
        "f546edc755634b37a1be6a9e3677317f": {
          "model_module": "@jupyter-widgets/base",
          "model_module_version": "1.2.0",
          "model_name": "LayoutModel",
          "state": {
            "_model_module": "@jupyter-widgets/base",
            "_model_module_version": "1.2.0",
            "_model_name": "LayoutModel",
            "_view_count": null,
            "_view_module": "@jupyter-widgets/base",
            "_view_module_version": "1.2.0",
            "_view_name": "LayoutView",
            "align_content": null,
            "align_items": null,
            "align_self": null,
            "border": null,
            "bottom": null,
            "display": null,
            "flex": null,
            "flex_flow": null,
            "grid_area": null,
            "grid_auto_columns": null,
            "grid_auto_flow": null,
            "grid_auto_rows": null,
            "grid_column": null,
            "grid_gap": null,
            "grid_row": null,
            "grid_template_areas": null,
            "grid_template_columns": null,
            "grid_template_rows": null,
            "height": null,
            "justify_content": null,
            "justify_items": null,
            "left": null,
            "margin": null,
            "max_height": null,
            "max_width": null,
            "min_height": null,
            "min_width": null,
            "object_fit": null,
            "object_position": null,
            "order": null,
            "overflow": null,
            "overflow_x": null,
            "overflow_y": null,
            "padding": null,
            "right": null,
            "top": null,
            "visibility": null,
            "width": null
          }
        },
        "f87b4d42de9a4d15907e66e782ca87a3": {
          "model_module": "@jupyter-widgets/base",
          "model_module_version": "1.2.0",
          "model_name": "LayoutModel",
          "state": {
            "_model_module": "@jupyter-widgets/base",
            "_model_module_version": "1.2.0",
            "_model_name": "LayoutModel",
            "_view_count": null,
            "_view_module": "@jupyter-widgets/base",
            "_view_module_version": "1.2.0",
            "_view_name": "LayoutView",
            "align_content": null,
            "align_items": null,
            "align_self": null,
            "border": null,
            "bottom": null,
            "display": null,
            "flex": null,
            "flex_flow": null,
            "grid_area": null,
            "grid_auto_columns": null,
            "grid_auto_flow": null,
            "grid_auto_rows": null,
            "grid_column": null,
            "grid_gap": null,
            "grid_row": null,
            "grid_template_areas": null,
            "grid_template_columns": null,
            "grid_template_rows": null,
            "height": null,
            "justify_content": null,
            "justify_items": null,
            "left": null,
            "margin": null,
            "max_height": null,
            "max_width": null,
            "min_height": null,
            "min_width": null,
            "object_fit": null,
            "object_position": null,
            "order": null,
            "overflow": null,
            "overflow_x": null,
            "overflow_y": null,
            "padding": null,
            "right": null,
            "top": null,
            "visibility": null,
            "width": null
          }
        },
        "fb7d474ba5e24d50bed3b8d4c24fa93d": {
          "model_module": "@jupyter-widgets/controls",
          "model_module_version": "1.5.0",
          "model_name": "HBoxModel",
          "state": {
            "_dom_classes": [],
            "_model_module": "@jupyter-widgets/controls",
            "_model_module_version": "1.5.0",
            "_model_name": "HBoxModel",
            "_view_count": null,
            "_view_module": "@jupyter-widgets/controls",
            "_view_module_version": "1.5.0",
            "_view_name": "HBoxView",
            "box_style": "",
            "children": [
              "IPY_MODEL_ada55fa29d724a539cd0f318d2f80116",
              "IPY_MODEL_c934af77d4714bc287fef29285953fef",
              "IPY_MODEL_1c8a0744fab349349277c41c2a5ea09e"
            ],
            "layout": "IPY_MODEL_b278d26d1e1646e5b5a7ce4389e5a977"
          }
        },
        "fbc4233b39ca4c1982fc1b3abeb6961a": {
          "model_module": "@jupyter-widgets/base",
          "model_module_version": "1.2.0",
          "model_name": "LayoutModel",
          "state": {
            "_model_module": "@jupyter-widgets/base",
            "_model_module_version": "1.2.0",
            "_model_name": "LayoutModel",
            "_view_count": null,
            "_view_module": "@jupyter-widgets/base",
            "_view_module_version": "1.2.0",
            "_view_name": "LayoutView",
            "align_content": null,
            "align_items": null,
            "align_self": null,
            "border": null,
            "bottom": null,
            "display": null,
            "flex": null,
            "flex_flow": null,
            "grid_area": null,
            "grid_auto_columns": null,
            "grid_auto_flow": null,
            "grid_auto_rows": null,
            "grid_column": null,
            "grid_gap": null,
            "grid_row": null,
            "grid_template_areas": null,
            "grid_template_columns": null,
            "grid_template_rows": null,
            "height": null,
            "justify_content": null,
            "justify_items": null,
            "left": null,
            "margin": null,
            "max_height": null,
            "max_width": null,
            "min_height": null,
            "min_width": null,
            "object_fit": null,
            "object_position": null,
            "order": null,
            "overflow": null,
            "overflow_x": null,
            "overflow_y": null,
            "padding": null,
            "right": null,
            "top": null,
            "visibility": null,
            "width": null
          }
        },
        "fca9ed1ea10b4c20a5889c109d1cd001": {
          "model_module": "@jupyter-widgets/controls",
          "model_module_version": "1.5.0",
          "model_name": "DescriptionStyleModel",
          "state": {
            "_model_module": "@jupyter-widgets/controls",
            "_model_module_version": "1.5.0",
            "_model_name": "DescriptionStyleModel",
            "_view_count": null,
            "_view_module": "@jupyter-widgets/base",
            "_view_module_version": "1.2.0",
            "_view_name": "StyleView",
            "description_width": ""
          }
        }
      }
    }
  },
  "nbformat": 4,
  "nbformat_minor": 0
}
